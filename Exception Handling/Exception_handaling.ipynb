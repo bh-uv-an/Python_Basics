{
 "cells": [
  {
   "cell_type": "markdown",
   "metadata": {},
   "source": [
    "### Exception Handaling With try except else and finally block \n",
    "\n",
    "Exception are events that disrupt the normal flow of the programs. They occur when error is encounterd in the program during program exceptions \n",
    "\n",
    "Common exception includes:    \n",
    "\n",
    "-> ZeroDivisionError: Dividing by zero    \n",
    "-> FileNotFoudError: File not found   \n",
    "-> ValueError: Invalid value   \n",
    "-> TypeError: Invalid type "
   ]
  },
  {
   "cell_type": "markdown",
   "metadata": {},
   "source": [
    "1. Just a simple Example try, except block "
   ]
  },
  {
   "cell_type": "code",
   "execution_count": 1,
   "metadata": {},
   "outputs": [
    {
     "name": "stdout",
     "output_type": "stream",
     "text": [
      "The value of B is not assighned \n"
     ]
    }
   ],
   "source": [
    "try:\n",
    "    a = b\n",
    "except: \n",
    "    print(\"The value of B is not assighned \")"
   ]
  },
  {
   "cell_type": "markdown",
   "metadata": {},
   "source": [
    "2. NameError using try block  exception"
   ]
  },
  {
   "cell_type": "code",
   "execution_count": 2,
   "metadata": {},
   "outputs": [
    {
     "name": "stdout",
     "output_type": "stream",
     "text": [
      "name 'b' is not defined\n"
     ]
    }
   ],
   "source": [
    "try:\n",
    "    a = b\n",
    "except NameError as ex: \n",
    "    print(ex)"
   ]
  },
  {
   "cell_type": "markdown",
   "metadata": {},
   "source": [
    "3. Every exception derived from this exception only "
   ]
  },
  {
   "cell_type": "code",
   "execution_count": 5,
   "metadata": {},
   "outputs": [
    {
     "name": "stdout",
     "output_type": "stream",
     "text": [
      "1.0\n",
      "division by zero\n"
     ]
    }
   ],
   "source": [
    "try:\n",
    "    a = 2 / 2\n",
    "except Exception as exc:\n",
    "    print(exc)\n",
    "    \n",
    "print(a)\n",
    "\n",
    "# Same above code using Parent of all Exception \n",
    "\n",
    "try: \n",
    "    result = 4/0\n",
    "except Exception as exc:\n",
    "    print(exc)\n",
    "    "
   ]
  },
  {
   "cell_type": "markdown",
   "metadata": {},
   "source": [
    "4. Multiple except block"
   ]
  },
  {
   "cell_type": "code",
   "execution_count": 12,
   "metadata": {},
   "outputs": [
    {
     "name": "stdout",
     "output_type": "stream",
     "text": [
      "unsupported operand type(s) for /: 'int' and 'str'\n"
     ]
    }
   ],
   "source": [
    "try:\n",
    "    num = (input(\"Enter the number \"))\n",
    "    result = 10 / num\n",
    "except ValueError as ve:\n",
    "    print(ve)\n",
    "except ZeroDivisionError as zde:\n",
    "    print(zde)\n",
    "except Exception as exc:\n",
    "    print(exc)\n"
   ]
  },
  {
   "cell_type": "markdown",
   "metadata": {},
   "source": [
    "5. try, except, else and finally "
   ]
  },
  {
   "cell_type": "code",
   "execution_count": 14,
   "metadata": {},
   "outputs": [
    {
     "name": "stdout",
     "output_type": "stream",
     "text": [
      "division by zero\n",
      "Execution is completed \n"
     ]
    }
   ],
   "source": [
    "try: \n",
    "    num = int(input(\"Enter a number \"))\n",
    "    div = 20 / num \n",
    "except Exception as exc:\n",
    "    print(exc)\n",
    "else:\n",
    "    print(f\"Result = {div}\")\n",
    "finally:    #Even if there is exception if there is no exception finally will be executed \n",
    "    print(\"Execution is completed \")"
   ]
  },
  {
   "cell_type": "markdown",
   "metadata": {},
   "source": [
    "6. File Handaling And Exception Handaling "
   ]
  },
  {
   "cell_type": "code",
   "execution_count": 22,
   "metadata": {},
   "outputs": [
    {
     "name": "stdout",
     "output_type": "stream",
     "text": [
      "Hello How is your work going\n",
      "Iam working in net analytiksIt is located at Mahatma Gandhi road Bangalore  \n",
      "It is located at Mahatma Gandhi road Bangalore  \n",
      "It is located at Mahatma Gandhi road Bangalore  \n",
      "First Line\n",
      "Second Line\n",
      "Third line\n"
     ]
    }
   ],
   "source": [
    "try:\n",
    "    with open('example.txt','r') as file:\n",
    "        content = file.read()\n",
    "        print(content)\n",
    "except Exception as exc:\n",
    "    print(exc)\n",
    "finally:\n",
    "    if file in locals() and not file.closed():\n",
    "        file.close()\n",
    "        print(\"file closed\")"
   ]
  }
 ],
 "metadata": {
  "kernelspec": {
   "display_name": "Python 3",
   "language": "python",
   "name": "python3"
  },
  "language_info": {
   "codemirror_mode": {
    "name": "ipython",
    "version": 3
   },
   "file_extension": ".py",
   "mimetype": "text/x-python",
   "name": "python",
   "nbconvert_exporter": "python",
   "pygments_lexer": "ipython3",
   "version": "3.12.0"
  }
 },
 "nbformat": 4,
 "nbformat_minor": 2
}
