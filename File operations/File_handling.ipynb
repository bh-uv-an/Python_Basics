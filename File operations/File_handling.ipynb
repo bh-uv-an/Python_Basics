{
 "cells": [
  {
   "cell_type": "markdown",
   "metadata": {},
   "source": [
    "### File operations Read and write files \n",
    "\n",
    " File handaling provides built in methods and functions to read from and write to files both texta and binary files "
   ]
  },
  {
   "cell_type": "markdown",
   "metadata": {},
   "source": [
    "1) Read a whole file from the directory"
   ]
  },
  {
   "cell_type": "code",
   "execution_count": 2,
   "metadata": {},
   "outputs": [
    {
     "name": "stdout",
     "output_type": "stream",
     "text": [
      "Hello World\n",
      "Iam Bhuvan Shetty\n",
      "Iam studying for Gen Ai\n",
      "I hope I complete this course entirely\n"
     ]
    }
   ],
   "source": [
    "with open('example.txt','r') as file:\n",
    "    content = file.read()\n",
    "    print(content)"
   ]
  },
  {
   "cell_type": "markdown",
   "metadata": {},
   "source": [
    "2) Read a file line by line "
   ]
  },
  {
   "cell_type": "code",
   "execution_count": 3,
   "metadata": {},
   "outputs": [
    {
     "name": "stdout",
     "output_type": "stream",
     "text": [
      "Hello World\n",
      "\n",
      "Iam Bhuvan Shetty\n",
      "\n",
      "Iam studying for Gen Ai\n",
      "\n",
      "I hope I complete this course entirely\n"
     ]
    }
   ],
   "source": [
    "with open('example.txt','r') as file:\n",
    "    for line in file:\n",
    "        print(line)"
   ]
  },
  {
   "cell_type": "markdown",
   "metadata": {},
   "source": [
    "3) Method if we wnat to remove the new line "
   ]
  },
  {
   "cell_type": "code",
   "execution_count": 4,
   "metadata": {},
   "outputs": [
    {
     "name": "stdout",
     "output_type": "stream",
     "text": [
      "Hello World\n",
      "Iam Bhuvan Shetty\n",
      "Iam studying for Gen Ai\n",
      "I hope I complete this course entirely\n"
     ]
    }
   ],
   "source": [
    "with open('example.txt','r') as file:\n",
    "    for line in file:\n",
    "        print(line.strip()) #strip function helps in removing the new line"
   ]
  },
  {
   "cell_type": "markdown",
   "metadata": {},
   "source": [
    "4) Writing a file with overwritng cluses "
   ]
  },
  {
   "cell_type": "code",
   "execution_count": 8,
   "metadata": {},
   "outputs": [
    {
     "name": "stdout",
     "output_type": "stream",
     "text": [
      "Hello How is your work going\n",
      "\n",
      "Iam working in net analytiks\n"
     ]
    }
   ],
   "source": [
    "with open('example.txt','w') as file:\n",
    "    file.write(\"Hello How is your work going\")\n",
    "    file.write(\"\\nIam working in net analytiks\")\n",
    "    \n",
    "with open('example.txt','r') as file:\n",
    "    for line in file:\n",
    "        print(line)"
   ]
  },
  {
   "cell_type": "markdown",
   "metadata": {},
   "source": [
    "5. Write a file without overiding"
   ]
  },
  {
   "cell_type": "code",
   "execution_count": 11,
   "metadata": {},
   "outputs": [
    {
     "name": "stdout",
     "output_type": "stream",
     "text": [
      "Hello How is your work going\n",
      "Iam working in net analytiksIt is located at Mahatma Gandhi road Bangalore  \n",
      "It is located at Mahatma Gandhi road Bangalore  \n",
      "It is located at Mahatma Gandhi road Bangalore  \n"
     ]
    }
   ],
   "source": [
    "with open('example.txt','a') as file:\n",
    "    file.write(\"\\nIt is located at Mahatma Gandhi road Bangalore  \")\n",
    "    \n",
    "with open('example.txt','r') as file:\n",
    "    content = file.read()\n",
    "    print(content)"
   ]
  },
  {
   "cell_type": "markdown",
   "metadata": {},
   "source": [
    "6. Writing a list of line to a file "
   ]
  },
  {
   "cell_type": "code",
   "execution_count": 14,
   "metadata": {},
   "outputs": [],
   "source": [
    "line = ['\\nFirst Line','\\nSecond Line','\\nThird line']\n",
    "with open('example.txt','a') as file:\n",
    "    file.writelines(line)"
   ]
  },
  {
   "cell_type": "markdown",
   "metadata": {},
   "source": [
    "7. Read the content from the source text file and read it to the destination text file "
   ]
  },
  {
   "cell_type": "code",
   "execution_count": 15,
   "metadata": {},
   "outputs": [],
   "source": [
    "# here let the source text file be example.txt and destiantion text file be dest.txt\n",
    "with open(\"example.txt\",'r') as source_file:\n",
    "    content = source_file.read()\n",
    "    #all the contents will be read from the file \n",
    "    \n",
    "with open(\"Destination.txt\",'w') as dest_file:\n",
    "    dest_file.write(content) "
   ]
  },
  {
   "cell_type": "markdown",
   "metadata": {},
   "source": [
    "8. w+ mode in python is used to open a file for both reading and writing. If the file is created it will work with that if it is not created it will then create a file "
   ]
  },
  {
   "cell_type": "code",
   "execution_count": 18,
   "metadata": {},
   "outputs": [
    {
     "name": "stdout",
     "output_type": "stream",
     "text": [
      "Hello World GHOST HERE\n",
      "Good night\n"
     ]
    }
   ],
   "source": [
    "with open('read_write.txt','w+')as file:\n",
    "    file.write(\"Hello World GHOST HERE\\n\")\n",
    "    file.write(\"Good night\")\n",
    "    \n",
    "    #file seek will help in bringing the pointer to the first line \n",
    "    file.seek(0)\n",
    "    \n",
    "    content = file.read()\n",
    "    print(content)\n",
    "    "
   ]
  }
 ],
 "metadata": {
  "kernelspec": {
   "display_name": "Python 3",
   "language": "python",
   "name": "python3"
  },
  "language_info": {
   "codemirror_mode": {
    "name": "ipython",
    "version": 3
   },
   "file_extension": ".py",
   "mimetype": "text/x-python",
   "name": "python",
   "nbconvert_exporter": "python",
   "pygments_lexer": "ipython3",
   "version": "3.12.0"
  }
 },
 "nbformat": 4,
 "nbformat_minor": 2
}
