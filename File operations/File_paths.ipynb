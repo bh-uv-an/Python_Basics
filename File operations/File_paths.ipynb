{
 "cells": [
  {
   "cell_type": "markdown",
   "metadata": {},
   "source": [
    "### Working with File Paths "
   ]
  },
  {
   "cell_type": "markdown",
   "metadata": {},
   "source": [
    "1. To get a present working directory"
   ]
  },
  {
   "cell_type": "code",
   "execution_count": 2,
   "metadata": {},
   "outputs": [
    {
     "name": "stdout",
     "output_type": "stream",
     "text": [
      "The present directory which Iam present working with is d:\\Gen AI -Full\n"
     ]
    }
   ],
   "source": [
    "import os\n",
    "print(f\"The present directory which Iam present working with is {os.getcwd()}\")"
   ]
  },
  {
   "cell_type": "markdown",
   "metadata": {},
   "source": [
    "2. Create a new working directory"
   ]
  },
  {
   "cell_type": "code",
   "execution_count": 4,
   "metadata": {},
   "outputs": [
    {
     "name": "stdout",
     "output_type": "stream",
     "text": [
      "New Directory created sucesfully\n"
     ]
    }
   ],
   "source": [
    "import os\n",
    "new_directory = \"newFolder\"\n",
    "os.mkdir(new_directory)\n",
    "if new_directory:\n",
    "    print(\"New Directory created sucesfully\")\n",
    "else:\n",
    "    print(\"Sorry! Directory not created\")"
   ]
  },
  {
   "cell_type": "markdown",
   "metadata": {},
   "source": [
    "3. Listing all the files in the directory"
   ]
  },
  {
   "cell_type": "code",
   "execution_count": 5,
   "metadata": {},
   "outputs": [
    {
     "name": "stdout",
     "output_type": "stream",
     "text": [
      "['app_streamlit.py', 'Basi_lib_of_python.py', 'Binary.bin', 'Calculator.ipynb', 'Calculator.py', 'customers-100.csv', 'Destination.txt', 'Dictionary.py', 'Dte_Tme.py', 'example.txt', 'File_handling.ipynb', 'File_paths.ipynb', 'Filter_Function.py', 'function.py', 'Grade_Application_list.py', 'ignore_all_vowels.py', 'Interchange_of_first_and_Last_in_list.py', 'Iterating_through_string.py', 'Key_positional_arguement.py', 'Lambda_function.py', 'List.py', 'List_comprehension.py', 'List_creation_using method.py', 'List_with_index.py', 'map_function.py', 'Methods_list.py', 'Nested_list.py', 'newFolder', 'Package', 'package_required.txt', 'password_check.py', 'Positional_arguement.py', 'print_numbers.py', 'print_String_from_even_index.py', 'read_write.txt', 'Regular_expression.py', 'Remove_first_n_character.py', 'Retu_mul_val_func.py', 'Reverse_printing_of_number.py', 'Reverse_String.py', 'Shopping_cart.py', 'Sum_of_Current_previous.ipynb', 'Testing_directory', 'Time.py', 'tules.py', 'tuple_creation_using_method.py', 'venv', 'Widget_streamlit.py']\n"
     ]
    }
   ],
   "source": [
    "import os\n",
    "directoryList = os.listdir('.') #Dot Specifies here current directory \n",
    "print(directoryList)"
   ]
  },
  {
   "cell_type": "markdown",
   "metadata": {},
   "source": [
    "4. Joining paths"
   ]
  },
  {
   "cell_type": "code",
   "execution_count": 8,
   "metadata": {},
   "outputs": [
    {
     "name": "stdout",
     "output_type": "stream",
     "text": [
      "d:\\Gen AI -Full\\Test\\Test.txt\n"
     ]
    }
   ],
   "source": [
    "import os\n",
    "directory_nme = \"Test\"\n",
    "folder_nme = \"Test.txt\"\n",
    "rel_path = os.path.join(os.getcwd(),directory_nme,folder_nme)\n",
    "print(rel_path)\n",
    "#Yes, exactly! The code you're running simply constructs a path as a string but does not create the directory \n",
    "# \"Test\" or the file \"Test.txt\". The path it outputs could be considered \"imaginary\" if those files or folders \n",
    "# don't actually exist on your system yet."
   ]
  },
  {
   "cell_type": "markdown",
   "metadata": {},
   "source": [
    "5. To check wether a particular file exsists or not "
   ]
  },
  {
   "cell_type": "code",
   "execution_count": 9,
   "metadata": {},
   "outputs": [
    {
     "name": "stdout",
     "output_type": "stream",
     "text": [
      "This file doesn't exsists\n"
     ]
    }
   ],
   "source": [
    "import os\n",
    "\n",
    "file_name = \"new.txt\"\n",
    "\n",
    "if os.path.exists(file_name):\n",
    "    print(\"This particular file exsists\")\n",
    "else:\n",
    "    print(\"This file doesn't exsists\")"
   ]
  },
  {
   "cell_type": "markdown",
   "metadata": {},
   "source": [
    "6. To check wether it is a particular file or folder"
   ]
  },
  {
   "cell_type": "code",
   "execution_count": 10,
   "metadata": {},
   "outputs": [
    {
     "name": "stdout",
     "output_type": "stream",
     "text": [
      "This is a file\n"
     ]
    }
   ],
   "source": [
    "import os\n",
    "\n",
    "file_name = \"example.txt\"\n",
    "\n",
    "if os.path.isfile(file_name):\n",
    "    print(\"This is a file\")\n",
    "    \n",
    "elif os.path.isdir(file_name):\n",
    "    print(\"This is a folder\")\n",
    "    \n",
    "else:\n",
    "    print(\"This file doesn't exsists \")"
   ]
  },
  {
   "cell_type": "markdown",
   "metadata": {},
   "source": [
    "7. Getting Absolute Path"
   ]
  },
  {
   "cell_type": "code",
   "execution_count": 11,
   "metadata": {},
   "outputs": [
    {
     "name": "stdout",
     "output_type": "stream",
     "text": [
      "d:\\Gen AI -Full\\example.txt\n"
     ]
    }
   ],
   "source": [
    "import os \n",
    "file_name = \"example.txt\"\n",
    "\n",
    "absolute_path = os.path.abspath(file_name)\n",
    "\n",
    "print(absolute_path)"
   ]
  }
 ],
 "metadata": {
  "kernelspec": {
   "display_name": "Python 3",
   "language": "python",
   "name": "python3"
  },
  "language_info": {
   "codemirror_mode": {
    "name": "ipython",
    "version": 3
   },
   "file_extension": ".py",
   "mimetype": "text/x-python",
   "name": "python",
   "nbconvert_exporter": "python",
   "pygments_lexer": "ipython3",
   "version": "3.12.0"
  }
 },
 "nbformat": 4,
 "nbformat_minor": 2
}
