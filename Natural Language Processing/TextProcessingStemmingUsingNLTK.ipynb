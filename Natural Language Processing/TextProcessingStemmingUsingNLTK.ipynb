{
  "nbformat": 4,
  "nbformat_minor": 0,
  "metadata": {
    "colab": {
      "provenance": []
    },
    "kernelspec": {
      "name": "python3",
      "display_name": "Python 3"
    },
    "language_info": {
      "name": "python"
    }
  },
  "cells": [
    {
      "cell_type": "markdown",
      "source": [
        "## **Stemming**\n",
        "\n",
        "Stemming is the process of reducing the word to its root stem that affixes to suffixes and prefixes or to the roots of the word known as lemma. Stemming is important in NLU and NLP\n",
        "\n",
        "Eg: If eat is the stemming word then eat -> eaten -> eatting All these are the same words.\n",
        "\n",
        "There are different types of Stemming techniques  \n",
        "-> PorterStemmer  \n",
        "->"
      ],
      "metadata": {
        "id": "hCfx9JNGN3l6"
      }
    },
    {
      "cell_type": "code",
      "source": [
        "!pip install nltk"
      ],
      "metadata": {
        "colab": {
          "base_uri": "https://localhost:8080/"
        },
        "id": "YDxXIz0-OssU",
        "outputId": "9d676e7d-60ce-4d3b-928d-69c7f09117de"
      },
      "execution_count": 2,
      "outputs": [
        {
          "output_type": "stream",
          "name": "stdout",
          "text": [
            "Requirement already satisfied: nltk in /usr/local/lib/python3.10/dist-packages (3.8.1)\n",
            "Requirement already satisfied: click in /usr/local/lib/python3.10/dist-packages (from nltk) (8.1.7)\n",
            "Requirement already satisfied: joblib in /usr/local/lib/python3.10/dist-packages (from nltk) (1.4.2)\n",
            "Requirement already satisfied: regex>=2021.8.3 in /usr/local/lib/python3.10/dist-packages (from nltk) (2024.9.11)\n",
            "Requirement already satisfied: tqdm in /usr/local/lib/python3.10/dist-packages (from nltk) (4.66.5)\n"
          ]
        }
      ]
    },
    {
      "cell_type": "markdown",
      "source": [
        "## **PorterStemmer**"
      ],
      "metadata": {
        "id": "BnslUfCyuHii"
      }
    },
    {
      "cell_type": "code",
      "source": [
        "from nltk.stem import PorterStemmer\n",
        "\n",
        "words = [\"eating\",\"eatnen\",\"eat\",\"ate\",\"adjustable\",\"rafting\",\"ability\",\"meeting\"]\n",
        "\n",
        "for word in words:\n",
        "  print(f\"{word} -> {PorterStemmer().stem(word)}\")\n"
      ],
      "metadata": {
        "colab": {
          "base_uri": "https://localhost:8080/"
        },
        "id": "Sda48hzgQUKg",
        "outputId": "0fcc5e2e-5333-491f-bd1b-bd673acf7690"
      },
      "execution_count": 3,
      "outputs": [
        {
          "output_type": "stream",
          "name": "stdout",
          "text": [
            "eating -> eat\n",
            "eatnen -> eatnen\n",
            "eat -> eat\n",
            "ate -> ate\n",
            "adjustable -> adjust\n",
            "rafting -> raft\n",
            "ability -> abil\n",
            "meeting -> meet\n"
          ]
        }
      ]
    },
    {
      "cell_type": "code",
      "source": [
        "  print(PorterStemmer().stem('Congaragulations'))"
      ],
      "metadata": {
        "colab": {
          "base_uri": "https://localhost:8080/"
        },
        "id": "mkHshU13UDUV",
        "outputId": "99b67492-d41b-45ee-b438-77be73ae110d"
      },
      "execution_count": 5,
      "outputs": [
        {
          "output_type": "stream",
          "name": "stdout",
          "text": [
            "congaragul\n"
          ]
        }
      ]
    },
    {
      "cell_type": "markdown",
      "source": [
        "### **RegexStemmer class**\n",
        "NLTK has RegexpStemmer class with the help of with a help of which we can easily implement Regular expression Stemmer algorithms. It takes a single regular expression and removes any prefix or suffix that matches the expression.Let us see an example. If there are any regular expression match then it will be get removed"
      ],
      "metadata": {
        "id": "S28txtolA7mj"
      }
    },
    {
      "cell_type": "code",
      "source": [
        "from nltk.stem import RegexpStemmer\n",
        "reg_stemmer = RegexpStemmer('ing$|s$|e|able$',min = 4) #minimum 4 specifies that if the wor with length 4 is only allowed for stemming\n",
        "reg_stemmer.stem('eating')\n",
        "#Here the output is at because we can see that ing$ which means that all the letters before $ will be deleted that is ing will be deleted\n",
        "#Here if we dont specify dollar then where is that particular word it will be removed from the word"
      ],
      "metadata": {
        "colab": {
          "base_uri": "https://localhost:8080/",
          "height": 35
        },
        "id": "4ESpYFD0CD8X",
        "outputId": "675ffcaa-1d4a-4096-9be5-51d1da9f48db"
      },
      "execution_count": 11,
      "outputs": [
        {
          "output_type": "execute_result",
          "data": {
            "text/plain": [
              "'at'"
            ],
            "application/vnd.google.colaboratory.intrinsic+json": {
              "type": "string"
            }
          },
          "metadata": {},
          "execution_count": 11
        }
      ]
    },
    {
      "cell_type": "markdown",
      "source": [
        "### Snowball stemmer      "
      ],
      "metadata": {
        "id": "ENWR1fqNH-FG"
      }
    },
    {
      "cell_type": "code",
      "source": [
        "from nltk.stem import SnowballStemmer\n",
        "sb = SnowballStemmer(language='english')\n",
        "sb.stem('eating')\n"
      ],
      "metadata": {
        "colab": {
          "base_uri": "https://localhost:8080/",
          "height": 35
        },
        "id": "pEkb-sAIIc2Z",
        "outputId": "6ac21ac2-f743-427d-89f4-ce0a9c34cf26"
      },
      "execution_count": 12,
      "outputs": [
        {
          "output_type": "execute_result",
          "data": {
            "text/plain": [
              "'eat'"
            ],
            "application/vnd.google.colaboratory.intrinsic+json": {
              "type": "string"
            }
          },
          "metadata": {},
          "execution_count": 12
        }
      ]
    },
    {
      "cell_type": "markdown",
      "source": [
        "# Different Output Based on PorterStemmer and SnowballStemmer"
      ],
      "metadata": {
        "id": "iDpf1ejc2eEZ"
      }
    },
    {
      "cell_type": "code",
      "source": [
        "from nltk.stem import SnowballStemmer\n",
        "sb = SnowballStemmer(language='english')  #here the Snowballstemmer gives very good output when compared to porterstemmer\n",
        "print(\"SnowballStemmer = \",sb.stem('fairly'))\n",
        "\n",
        "from nltk.stem import PorterStemmer\n",
        "ps = PorterStemmer()\n",
        "print(\"PorterStemmer = \",ps.stem('fairly'))"
      ],
      "metadata": {
        "colab": {
          "base_uri": "https://localhost:8080/"
        },
        "id": "WwrS90LM1UbR",
        "outputId": "0779309b-462c-4577-f526-2a53b9d30732"
      },
      "execution_count": 4,
      "outputs": [
        {
          "output_type": "stream",
          "name": "stdout",
          "text": [
            "SnowballStemmer =  fair\n",
            "PorterStemmer =  fairli\n"
          ]
        }
      ]
    },
    {
      "cell_type": "markdown",
      "source": [
        "### Lematization\n",
        "\n",
        "Lematization technique is like stemming. The output we will get after Lematization is called Lemma, which is a root word rather than root stem, the output of stemming. After Lemmatization we will getting a valid word that means the same thing\n",
        "\n",
        "NLTK provides WordNetLemmitizer which is a thin wrapper around wordnet corpus. This class uses morphy() function to the WordNet CorpusReader class to find a lemma."
      ],
      "metadata": {
        "id": "YzrlPnbT5ZB7"
      }
    },
    {
      "cell_type": "code",
      "source": [
        "import nltk\n",
        "nltk.download('wordnet')\n",
        "from nltk.stem import WordNetLemmatizer #It takes time but gives good output\n",
        "lemmatizer = WordNetLemmatizer()\n",
        "print(lemmatizer.lemmatize('eating',pos='v'))\n",
        "print(lemmatizer.lemmatize('eats',pos='v'))\n",
        "print(lemmatizer.lemmatize('ate',pos='v'))"
      ],
      "metadata": {
        "colab": {
          "base_uri": "https://localhost:8080/"
        },
        "id": "QC1zRFnC5dpb",
        "outputId": "8d4d862f-e867-4c4f-c0a8-960e7890f51d"
      },
      "execution_count": 9,
      "outputs": [
        {
          "output_type": "stream",
          "name": "stdout",
          "text": [
            "eat\n",
            "eat\n",
            "eat\n"
          ]
        },
        {
          "output_type": "stream",
          "name": "stderr",
          "text": [
            "[nltk_data] Downloading package wordnet to /root/nltk_data...\n",
            "[nltk_data]   Package wordnet is already up-to-date!\n"
          ]
        }
      ]
    },
    {
      "cell_type": "markdown",
      "source": [
        "### Stop Words\n",
        "\n",
        "Following is the illustration of how word pre processing works"
      ],
      "metadata": {
        "id": "q1A7QVYmAHnA"
      }
    },
    {
      "cell_type": "code",
      "source": [
        "corpus = ''' Once upon a time, there lived a monkey on a mango tree on the banks of a river. The mangoes of that tree were the sweetest of all. The tree bore fruits year-round. The monkey used to live very happily on the tree eating the tasty fruits and playing on the tree.\n",
        "\n",
        "On a particular day, a crocodile came near that mango tree. He seemed very exhausted. The monkey offered him some delicious mangoes from the tree. The crocodile loved those mangoes and thanked the monkey for the same. From then on, the crocodile used to visit the monkey every day and they became good friends.\n",
        "\n",
        "One day the crocodile thought to take some mangoes for his wife. When his wife ate the mangoes, she demanded something very absurd from the crocodile. She said that these fruits are so tasty, then how delicious will be the heart of that monkey who regularly eats these mangoes!\n",
        "\n",
        "She ordered the crocodile to bring the monkey’s heart for her. The crocodile was shocked at her demand. The monkey was his friend. How could he betray him? He declined to kill the monkey and bring his heart to her.\n",
        "\n",
        "The crocodile’s wife was adamant about getting the monkey’s heart. She told the crocodile that she is not keeping well and the doctor has recommended her to eat a monkey’s heart to recover. She even threatened him that if the crocodile didn’t get the monkey’s heart for her, she would surely die. The crocodile had to give in to her order.\n",
        "\n",
        "With a heavy heart, the crocodile left to get the monkey. He went to the monkey and said, “Friend, my wife loved the mangoes sent by you. She has invited you to our house to thank you.” The monkey agreed and sat on the crocodile’s back so that the crocodile could take him to his house.\n",
        "\n",
        "In the middle of the river, the crocodile began sinking in. The monkey got frightened and he asked the crocodile as to why he was sinking. The crocodile, knowing that now there was no escape for the monkey, replied, “Forgive me, my friend. My wife needs to eat your heart to save her life. That’s why I am taking you with me.”\n",
        "\n",
        "The monkey was outraged. The monkey was smart. He kept calm and told the crocodile that he would be more than happy to save his wife’s life but he left his heart at the mango tree. The monkey told him that they can quickly go and get his heart from the tree.\n",
        "\n",
        "The crocodile accepted it at once and turned back. As soon as they reached the tree, the monkey jumped onto the tree and said, “O foolish crocodile, how can someone take out his heart and keep it somewhere else? You have deceived me as a friend. Now go and never come back. The ashamed crocodile went back to his home.'''"
      ],
      "metadata": {
        "id": "8BVITbSLBGSu"
      },
      "execution_count": 10,
      "outputs": []
    },
    {
      "cell_type": "code",
      "source": [
        "from nltk.stem import PorterStemmer\n",
        "nltk.download('stopwords')\n",
        "from nltk.corpus import stopwords"
      ],
      "metadata": {
        "colab": {
          "base_uri": "https://localhost:8080/"
        },
        "id": "-xhpb6btJKqc",
        "outputId": "d7d2edcf-4f07-4a0a-f8ad-cf27dabe83c9"
      },
      "execution_count": 70,
      "outputs": [
        {
          "output_type": "stream",
          "name": "stderr",
          "text": [
            "[nltk_data] Downloading package stopwords to /root/nltk_data...\n",
            "[nltk_data]   Package stopwords is already up-to-date!\n"
          ]
        }
      ]
    },
    {
      "cell_type": "code",
      "source": [
        "print(stopwords.words('english'))"
      ],
      "metadata": {
        "colab": {
          "base_uri": "https://localhost:8080/"
        },
        "id": "0au_kubhJxq-",
        "outputId": "267889ac-2354-4428-f359-d96fbec8f49a"
      },
      "execution_count": 16,
      "outputs": [
        {
          "output_type": "stream",
          "name": "stdout",
          "text": [
            "['i', 'me', 'my', 'myself', 'we', 'our', 'ours', 'ourselves', 'you', \"you're\", \"you've\", \"you'll\", \"you'd\", 'your', 'yours', 'yourself', 'yourselves', 'he', 'him', 'his', 'himself', 'she', \"she's\", 'her', 'hers', 'herself', 'it', \"it's\", 'its', 'itself', 'they', 'them', 'their', 'theirs', 'themselves', 'what', 'which', 'who', 'whom', 'this', 'that', \"that'll\", 'these', 'those', 'am', 'is', 'are', 'was', 'were', 'be', 'been', 'being', 'have', 'has', 'had', 'having', 'do', 'does', 'did', 'doing', 'a', 'an', 'the', 'and', 'but', 'if', 'or', 'because', 'as', 'until', 'while', 'of', 'at', 'by', 'for', 'with', 'about', 'against', 'between', 'into', 'through', 'during', 'before', 'after', 'above', 'below', 'to', 'from', 'up', 'down', 'in', 'out', 'on', 'off', 'over', 'under', 'again', 'further', 'then', 'once', 'here', 'there', 'when', 'where', 'why', 'how', 'all', 'any', 'both', 'each', 'few', 'more', 'most', 'other', 'some', 'such', 'no', 'nor', 'not', 'only', 'own', 'same', 'so', 'than', 'too', 'very', 's', 't', 'can', 'will', 'just', 'don', \"don't\", 'should', \"should've\", 'now', 'd', 'll', 'm', 'o', 're', 've', 'y', 'ain', 'aren', \"aren't\", 'couldn', \"couldn't\", 'didn', \"didn't\", 'doesn', \"doesn't\", 'hadn', \"hadn't\", 'hasn', \"hasn't\", 'haven', \"haven't\", 'isn', \"isn't\", 'ma', 'mightn', \"mightn't\", 'mustn', \"mustn't\", 'needn', \"needn't\", 'shan', \"shan't\", 'shouldn', \"shouldn't\", 'wasn', \"wasn't\", 'weren', \"weren't\", 'won', \"won't\", 'wouldn', \"wouldn't\"]\n"
          ]
        }
      ]
    },
    {
      "cell_type": "code",
      "source": [
        "from nltk.tokenize import sent_tokenize\n",
        "nltk.download('punkt')\n",
        "SenteceTokenized = sent_tokenize(corpus)\n",
        "print(SenteceTokenized)"
      ],
      "metadata": {
        "colab": {
          "base_uri": "https://localhost:8080/"
        },
        "id": "VF9SLwNLKjwd",
        "outputId": "ac6f460c-661d-47a4-c9e7-3b396f841cb0"
      },
      "execution_count": 44,
      "outputs": [
        {
          "output_type": "stream",
          "name": "stdout",
          "text": [
            "[' Once upon a time, there lived a monkey on a mango tree on the banks of a river.', 'The mangoes of that tree were the sweetest of all.', 'The tree bore fruits year-round.', 'The monkey used to live very happily on the tree eating the tasty fruits and playing on the tree.', 'On a particular day, a crocodile came near that mango tree.', 'He seemed very exhausted.', 'The monkey offered him some delicious mangoes from the tree.', 'The crocodile loved those mangoes and thanked the monkey for the same.', 'From then on, the crocodile used to visit the monkey every day and they became good friends.', 'One day the crocodile thought to take some mangoes for his wife.', 'When his wife ate the mangoes, she demanded something very absurd from the crocodile.', 'She said that these fruits are so tasty, then how delicious will be the heart of that monkey who regularly eats these mangoes!', 'She ordered the crocodile to bring the monkey’s heart for her.', 'The crocodile was shocked at her demand.', 'The monkey was his friend.', 'How could he betray him?', 'He declined to kill the monkey and bring his heart to her.', 'The crocodile’s wife was adamant about getting the monkey’s heart.', 'She told the crocodile that she is not keeping well and the doctor has recommended her to eat a monkey’s heart to recover.', 'She even threatened him that if the crocodile didn’t get the monkey’s heart for her, she would surely die.', 'The crocodile had to give in to her order.', 'With a heavy heart, the crocodile left to get the monkey.', 'He went to the monkey and said, “Friend, my wife loved the mangoes sent by you.', 'She has invited you to our house to thank you.” The monkey agreed and sat on the crocodile’s back so that the crocodile could take him to his house.', 'In the middle of the river, the crocodile began sinking in.', 'The monkey got frightened and he asked the crocodile as to why he was sinking.', 'The crocodile, knowing that now there was no escape for the monkey, replied, “Forgive me, my friend.', 'My wife needs to eat your heart to save her life.', 'That’s why I am taking you with me.” \\n\\nThe monkey was outraged.', 'The monkey was smart.', 'He kept calm and told the crocodile that he would be more than happy to save his wife’s life but he left his heart at the mango tree.', 'The monkey told him that they can quickly go and get his heart from the tree.', 'The crocodile accepted it at once and turned back.', 'As soon as they reached the tree, the monkey jumped onto the tree and said, “O foolish crocodile, how can someone take out his heart and keep it somewhere else?', 'You have deceived me as a friend.', 'Now go and never come back.', 'The ashamed crocodile went back to his home.']\n"
          ]
        },
        {
          "output_type": "stream",
          "name": "stderr",
          "text": [
            "[nltk_data] Downloading package punkt to /root/nltk_data...\n",
            "[nltk_data]   Package punkt is already up-to-date!\n"
          ]
        }
      ]
    },
    {
      "cell_type": "code",
      "source": [
        "ListOfWord.clear()"
      ],
      "metadata": {
        "id": "W0Ox3nPcVH_A"
      },
      "execution_count": 71,
      "outputs": []
    },
    {
      "cell_type": "code",
      "source": [
        "#Now how this will work is whatever stopword not present in the corpus we will remove them and then applying stemming\n",
        "#After that we will remove all the StopWOrds from the list\n",
        "from nltk.tokenize import word_tokenize\n",
        "for i in range(len(SenteceTokenized)):\n",
        "    print(word_tokenize(SenteceTokenized[i]))\n",
        "    ListOfWord.append(word_tokenize(SenteceTokenized[i]))"
      ],
      "metadata": {
        "colab": {
          "base_uri": "https://localhost:8080/"
        },
        "id": "Idievl3sMMOi",
        "outputId": "444d065a-697e-45ed-9d2f-5053a0e468ff"
      },
      "execution_count": 72,
      "outputs": [
        {
          "output_type": "stream",
          "name": "stdout",
          "text": [
            "['Once', 'upon', 'a', 'time', ',', 'there', 'lived', 'a', 'monkey', 'on', 'a', 'mango', 'tree', 'on', 'the', 'banks', 'of', 'a', 'river', '.']\n",
            "['The', 'mangoes', 'of', 'that', 'tree', 'were', 'the', 'sweetest', 'of', 'all', '.']\n",
            "['The', 'tree', 'bore', 'fruits', 'year-round', '.']\n",
            "['The', 'monkey', 'used', 'to', 'live', 'very', 'happily', 'on', 'the', 'tree', 'eating', 'the', 'tasty', 'fruits', 'and', 'playing', 'on', 'the', 'tree', '.']\n",
            "['On', 'a', 'particular', 'day', ',', 'a', 'crocodile', 'came', 'near', 'that', 'mango', 'tree', '.']\n",
            "['He', 'seemed', 'very', 'exhausted', '.']\n",
            "['The', 'monkey', 'offered', 'him', 'some', 'delicious', 'mangoes', 'from', 'the', 'tree', '.']\n",
            "['The', 'crocodile', 'loved', 'those', 'mangoes', 'and', 'thanked', 'the', 'monkey', 'for', 'the', 'same', '.']\n",
            "['From', 'then', 'on', ',', 'the', 'crocodile', 'used', 'to', 'visit', 'the', 'monkey', 'every', 'day', 'and', 'they', 'became', 'good', 'friends', '.']\n",
            "['One', 'day', 'the', 'crocodile', 'thought', 'to', 'take', 'some', 'mangoes', 'for', 'his', 'wife', '.']\n",
            "['When', 'his', 'wife', 'ate', 'the', 'mangoes', ',', 'she', 'demanded', 'something', 'very', 'absurd', 'from', 'the', 'crocodile', '.']\n",
            "['She', 'said', 'that', 'these', 'fruits', 'are', 'so', 'tasty', ',', 'then', 'how', 'delicious', 'will', 'be', 'the', 'heart', 'of', 'that', 'monkey', 'who', 'regularly', 'eats', 'these', 'mangoes', '!']\n",
            "['She', 'ordered', 'the', 'crocodile', 'to', 'bring', 'the', 'monkey', '’', 's', 'heart', 'for', 'her', '.']\n",
            "['The', 'crocodile', 'was', 'shocked', 'at', 'her', 'demand', '.']\n",
            "['The', 'monkey', 'was', 'his', 'friend', '.']\n",
            "['How', 'could', 'he', 'betray', 'him', '?']\n",
            "['He', 'declined', 'to', 'kill', 'the', 'monkey', 'and', 'bring', 'his', 'heart', 'to', 'her', '.']\n",
            "['The', 'crocodile', '’', 's', 'wife', 'was', 'adamant', 'about', 'getting', 'the', 'monkey', '’', 's', 'heart', '.']\n",
            "['She', 'told', 'the', 'crocodile', 'that', 'she', 'is', 'not', 'keeping', 'well', 'and', 'the', 'doctor', 'has', 'recommended', 'her', 'to', 'eat', 'a', 'monkey', '’', 's', 'heart', 'to', 'recover', '.']\n",
            "['She', 'even', 'threatened', 'him', 'that', 'if', 'the', 'crocodile', 'didn', '’', 't', 'get', 'the', 'monkey', '’', 's', 'heart', 'for', 'her', ',', 'she', 'would', 'surely', 'die', '.']\n",
            "['The', 'crocodile', 'had', 'to', 'give', 'in', 'to', 'her', 'order', '.']\n",
            "['With', 'a', 'heavy', 'heart', ',', 'the', 'crocodile', 'left', 'to', 'get', 'the', 'monkey', '.']\n",
            "['He', 'went', 'to', 'the', 'monkey', 'and', 'said', ',', '“', 'Friend', ',', 'my', 'wife', 'loved', 'the', 'mangoes', 'sent', 'by', 'you', '.']\n",
            "['She', 'has', 'invited', 'you', 'to', 'our', 'house', 'to', 'thank', 'you.', '”', 'The', 'monkey', 'agreed', 'and', 'sat', 'on', 'the', 'crocodile', '’', 's', 'back', 'so', 'that', 'the', 'crocodile', 'could', 'take', 'him', 'to', 'his', 'house', '.']\n",
            "['In', 'the', 'middle', 'of', 'the', 'river', ',', 'the', 'crocodile', 'began', 'sinking', 'in', '.']\n",
            "['The', 'monkey', 'got', 'frightened', 'and', 'he', 'asked', 'the', 'crocodile', 'as', 'to', 'why', 'he', 'was', 'sinking', '.']\n",
            "['The', 'crocodile', ',', 'knowing', 'that', 'now', 'there', 'was', 'no', 'escape', 'for', 'the', 'monkey', ',', 'replied', ',', '“', 'Forgive', 'me', ',', 'my', 'friend', '.']\n",
            "['My', 'wife', 'needs', 'to', 'eat', 'your', 'heart', 'to', 'save', 'her', 'life', '.']\n",
            "['That', '’', 's', 'why', 'I', 'am', 'taking', 'you', 'with', 'me.', '”', 'The', 'monkey', 'was', 'outraged', '.']\n",
            "['The', 'monkey', 'was', 'smart', '.']\n",
            "['He', 'kept', 'calm', 'and', 'told', 'the', 'crocodile', 'that', 'he', 'would', 'be', 'more', 'than', 'happy', 'to', 'save', 'his', 'wife', '’', 's', 'life', 'but', 'he', 'left', 'his', 'heart', 'at', 'the', 'mango', 'tree', '.']\n",
            "['The', 'monkey', 'told', 'him', 'that', 'they', 'can', 'quickly', 'go', 'and', 'get', 'his', 'heart', 'from', 'the', 'tree', '.']\n",
            "['The', 'crocodile', 'accepted', 'it', 'at', 'once', 'and', 'turned', 'back', '.']\n",
            "['As', 'soon', 'as', 'they', 'reached', 'the', 'tree', ',', 'the', 'monkey', 'jumped', 'onto', 'the', 'tree', 'and', 'said', ',', '“', 'O', 'foolish', 'crocodile', ',', 'how', 'can', 'someone', 'take', 'out', 'his', 'heart', 'and', 'keep', 'it', 'somewhere', 'else', '?']\n",
            "['You', 'have', 'deceived', 'me', 'as', 'a', 'friend', '.']\n",
            "['Now', 'go', 'and', 'never', 'come', 'back', '.']\n",
            "['The', 'ashamed', 'crocodile', 'went', 'back', 'to', 'his', 'home', '.']\n"
          ]
        }
      ]
    },
    {
      "cell_type": "code",
      "source": [
        "for i in ListOfWord:\n",
        "  print(i)"
      ],
      "metadata": {
        "colab": {
          "base_uri": "https://localhost:8080/"
        },
        "id": "TAHILpDONY5x",
        "outputId": "59f01139-3035-4b59-c4f2-3bca852d685c"
      },
      "execution_count": 73,
      "outputs": [
        {
          "output_type": "stream",
          "name": "stdout",
          "text": [
            "['Once', 'upon', 'a', 'time', ',', 'there', 'lived', 'a', 'monkey', 'on', 'a', 'mango', 'tree', 'on', 'the', 'banks', 'of', 'a', 'river', '.']\n",
            "['The', 'mangoes', 'of', 'that', 'tree', 'were', 'the', 'sweetest', 'of', 'all', '.']\n",
            "['The', 'tree', 'bore', 'fruits', 'year-round', '.']\n",
            "['The', 'monkey', 'used', 'to', 'live', 'very', 'happily', 'on', 'the', 'tree', 'eating', 'the', 'tasty', 'fruits', 'and', 'playing', 'on', 'the', 'tree', '.']\n",
            "['On', 'a', 'particular', 'day', ',', 'a', 'crocodile', 'came', 'near', 'that', 'mango', 'tree', '.']\n",
            "['He', 'seemed', 'very', 'exhausted', '.']\n",
            "['The', 'monkey', 'offered', 'him', 'some', 'delicious', 'mangoes', 'from', 'the', 'tree', '.']\n",
            "['The', 'crocodile', 'loved', 'those', 'mangoes', 'and', 'thanked', 'the', 'monkey', 'for', 'the', 'same', '.']\n",
            "['From', 'then', 'on', ',', 'the', 'crocodile', 'used', 'to', 'visit', 'the', 'monkey', 'every', 'day', 'and', 'they', 'became', 'good', 'friends', '.']\n",
            "['One', 'day', 'the', 'crocodile', 'thought', 'to', 'take', 'some', 'mangoes', 'for', 'his', 'wife', '.']\n",
            "['When', 'his', 'wife', 'ate', 'the', 'mangoes', ',', 'she', 'demanded', 'something', 'very', 'absurd', 'from', 'the', 'crocodile', '.']\n",
            "['She', 'said', 'that', 'these', 'fruits', 'are', 'so', 'tasty', ',', 'then', 'how', 'delicious', 'will', 'be', 'the', 'heart', 'of', 'that', 'monkey', 'who', 'regularly', 'eats', 'these', 'mangoes', '!']\n",
            "['She', 'ordered', 'the', 'crocodile', 'to', 'bring', 'the', 'monkey', '’', 's', 'heart', 'for', 'her', '.']\n",
            "['The', 'crocodile', 'was', 'shocked', 'at', 'her', 'demand', '.']\n",
            "['The', 'monkey', 'was', 'his', 'friend', '.']\n",
            "['How', 'could', 'he', 'betray', 'him', '?']\n",
            "['He', 'declined', 'to', 'kill', 'the', 'monkey', 'and', 'bring', 'his', 'heart', 'to', 'her', '.']\n",
            "['The', 'crocodile', '’', 's', 'wife', 'was', 'adamant', 'about', 'getting', 'the', 'monkey', '’', 's', 'heart', '.']\n",
            "['She', 'told', 'the', 'crocodile', 'that', 'she', 'is', 'not', 'keeping', 'well', 'and', 'the', 'doctor', 'has', 'recommended', 'her', 'to', 'eat', 'a', 'monkey', '’', 's', 'heart', 'to', 'recover', '.']\n",
            "['She', 'even', 'threatened', 'him', 'that', 'if', 'the', 'crocodile', 'didn', '’', 't', 'get', 'the', 'monkey', '’', 's', 'heart', 'for', 'her', ',', 'she', 'would', 'surely', 'die', '.']\n",
            "['The', 'crocodile', 'had', 'to', 'give', 'in', 'to', 'her', 'order', '.']\n",
            "['With', 'a', 'heavy', 'heart', ',', 'the', 'crocodile', 'left', 'to', 'get', 'the', 'monkey', '.']\n",
            "['He', 'went', 'to', 'the', 'monkey', 'and', 'said', ',', '“', 'Friend', ',', 'my', 'wife', 'loved', 'the', 'mangoes', 'sent', 'by', 'you', '.']\n",
            "['She', 'has', 'invited', 'you', 'to', 'our', 'house', 'to', 'thank', 'you.', '”', 'The', 'monkey', 'agreed', 'and', 'sat', 'on', 'the', 'crocodile', '’', 's', 'back', 'so', 'that', 'the', 'crocodile', 'could', 'take', 'him', 'to', 'his', 'house', '.']\n",
            "['In', 'the', 'middle', 'of', 'the', 'river', ',', 'the', 'crocodile', 'began', 'sinking', 'in', '.']\n",
            "['The', 'monkey', 'got', 'frightened', 'and', 'he', 'asked', 'the', 'crocodile', 'as', 'to', 'why', 'he', 'was', 'sinking', '.']\n",
            "['The', 'crocodile', ',', 'knowing', 'that', 'now', 'there', 'was', 'no', 'escape', 'for', 'the', 'monkey', ',', 'replied', ',', '“', 'Forgive', 'me', ',', 'my', 'friend', '.']\n",
            "['My', 'wife', 'needs', 'to', 'eat', 'your', 'heart', 'to', 'save', 'her', 'life', '.']\n",
            "['That', '’', 's', 'why', 'I', 'am', 'taking', 'you', 'with', 'me.', '”', 'The', 'monkey', 'was', 'outraged', '.']\n",
            "['The', 'monkey', 'was', 'smart', '.']\n",
            "['He', 'kept', 'calm', 'and', 'told', 'the', 'crocodile', 'that', 'he', 'would', 'be', 'more', 'than', 'happy', 'to', 'save', 'his', 'wife', '’', 's', 'life', 'but', 'he', 'left', 'his', 'heart', 'at', 'the', 'mango', 'tree', '.']\n",
            "['The', 'monkey', 'told', 'him', 'that', 'they', 'can', 'quickly', 'go', 'and', 'get', 'his', 'heart', 'from', 'the', 'tree', '.']\n",
            "['The', 'crocodile', 'accepted', 'it', 'at', 'once', 'and', 'turned', 'back', '.']\n",
            "['As', 'soon', 'as', 'they', 'reached', 'the', 'tree', ',', 'the', 'monkey', 'jumped', 'onto', 'the', 'tree', 'and', 'said', ',', '“', 'O', 'foolish', 'crocodile', ',', 'how', 'can', 'someone', 'take', 'out', 'his', 'heart', 'and', 'keep', 'it', 'somewhere', 'else', '?']\n",
            "['You', 'have', 'deceived', 'me', 'as', 'a', 'friend', '.']\n",
            "['Now', 'go', 'and', 'never', 'come', 'back', '.']\n",
            "['The', 'ashamed', 'crocodile', 'went', 'back', 'to', 'his', 'home', '.']\n"
          ]
        }
      ]
    },
    {
      "cell_type": "code",
      "source": [
        "ListOfWord[3]"
      ],
      "metadata": {
        "colab": {
          "base_uri": "https://localhost:8080/"
        },
        "id": "gjSrgmHHRFcv",
        "outputId": "4af60812-58f1-4bfb-f587-54b61bf15377"
      },
      "execution_count": 74,
      "outputs": [
        {
          "output_type": "execute_result",
          "data": {
            "text/plain": [
              "['The',\n",
              " 'monkey',\n",
              " 'used',\n",
              " 'to',\n",
              " 'live',\n",
              " 'very',\n",
              " 'happily',\n",
              " 'on',\n",
              " 'the',\n",
              " 'tree',\n",
              " 'eating',\n",
              " 'the',\n",
              " 'tasty',\n",
              " 'fruits',\n",
              " 'and',\n",
              " 'playing',\n",
              " 'on',\n",
              " 'the',\n",
              " 'tree',\n",
              " '.']"
            ]
          },
          "metadata": {},
          "execution_count": 74
        }
      ]
    },
    {
      "cell_type": "code",
      "source": [
        "#Now we shall apply stemming on the words that are not stopwords\n",
        "from nltk.stem import SnowballStemmer\n",
        "from nltk.stem import WordNetLemmatizer\n",
        "lemmatizer = WordNetLemmatizer()\n",
        "for i in range(len(ListOfWord)):\n",
        "      #ListOfWord[i] = [sb.stem(word) for word in ListOfWord[i] if word not in set(stopwords.words('english'))]\n",
        "      #ListOfWord[i] = ' '.join(ListOfWord[i])\n",
        "      ListOfWord[i] = [lemmatizer.lemmatize(word,pos='n') for word in ListOfWord[i] if word not in set(stopwords.words('english'))]\n",
        "print(ListOfWord)"
      ],
      "metadata": {
        "colab": {
          "base_uri": "https://localhost:8080/"
        },
        "id": "wcGloqNjRezC",
        "outputId": "ecb82dbe-7841-4349-ebed-2589b117b2fd"
      },
      "execution_count": 75,
      "outputs": [
        {
          "output_type": "stream",
          "name": "stdout",
          "text": [
            "[['Once', 'upon', 'time', ',', 'lived', 'monkey', 'mango', 'tree', 'bank', 'river', '.'], ['The', 'mango', 'tree', 'sweetest', '.'], ['The', 'tree', 'bore', 'fruit', 'year-round', '.'], ['The', 'monkey', 'used', 'live', 'happily', 'tree', 'eating', 'tasty', 'fruit', 'playing', 'tree', '.'], ['On', 'particular', 'day', ',', 'crocodile', 'came', 'near', 'mango', 'tree', '.'], ['He', 'seemed', 'exhausted', '.'], ['The', 'monkey', 'offered', 'delicious', 'mango', 'tree', '.'], ['The', 'crocodile', 'loved', 'mango', 'thanked', 'monkey', '.'], ['From', ',', 'crocodile', 'used', 'visit', 'monkey', 'every', 'day', 'became', 'good', 'friend', '.'], ['One', 'day', 'crocodile', 'thought', 'take', 'mango', 'wife', '.'], ['When', 'wife', 'ate', 'mango', ',', 'demanded', 'something', 'absurd', 'crocodile', '.'], ['She', 'said', 'fruit', 'tasty', ',', 'delicious', 'heart', 'monkey', 'regularly', 'eats', 'mango', '!'], ['She', 'ordered', 'crocodile', 'bring', 'monkey', '’', 'heart', '.'], ['The', 'crocodile', 'shocked', 'demand', '.'], ['The', 'monkey', 'friend', '.'], ['How', 'could', 'betray', '?'], ['He', 'declined', 'kill', 'monkey', 'bring', 'heart', '.'], ['The', 'crocodile', '’', 'wife', 'adamant', 'getting', 'monkey', '’', 'heart', '.'], ['She', 'told', 'crocodile', 'keeping', 'well', 'doctor', 'recommended', 'eat', 'monkey', '’', 'heart', 'recover', '.'], ['She', 'even', 'threatened', 'crocodile', '’', 'get', 'monkey', '’', 'heart', ',', 'would', 'surely', 'die', '.'], ['The', 'crocodile', 'give', 'order', '.'], ['With', 'heavy', 'heart', ',', 'crocodile', 'left', 'get', 'monkey', '.'], ['He', 'went', 'monkey', 'said', ',', '“', 'Friend', ',', 'wife', 'loved', 'mango', 'sent', '.'], ['She', 'invited', 'house', 'thank', 'you.', '”', 'The', 'monkey', 'agreed', 'sat', 'crocodile', '’', 'back', 'crocodile', 'could', 'take', 'house', '.'], ['In', 'middle', 'river', ',', 'crocodile', 'began', 'sinking', '.'], ['The', 'monkey', 'got', 'frightened', 'asked', 'crocodile', 'sinking', '.'], ['The', 'crocodile', ',', 'knowing', 'escape', 'monkey', ',', 'replied', ',', '“', 'Forgive', ',', 'friend', '.'], ['My', 'wife', 'need', 'eat', 'heart', 'save', 'life', '.'], ['That', '’', 'I', 'taking', 'me.', '”', 'The', 'monkey', 'outraged', '.'], ['The', 'monkey', 'smart', '.'], ['He', 'kept', 'calm', 'told', 'crocodile', 'would', 'happy', 'save', 'wife', '’', 'life', 'left', 'heart', 'mango', 'tree', '.'], ['The', 'monkey', 'told', 'quickly', 'go', 'get', 'heart', 'tree', '.'], ['The', 'crocodile', 'accepted', 'turned', 'back', '.'], ['As', 'soon', 'reached', 'tree', ',', 'monkey', 'jumped', 'onto', 'tree', 'said', ',', '“', 'O', 'foolish', 'crocodile', ',', 'someone', 'take', 'heart', 'keep', 'somewhere', 'else', '?'], ['You', 'deceived', 'friend', '.'], ['Now', 'go', 'never', 'come', 'back', '.'], ['The', 'ashamed', 'crocodile', 'went', 'back', 'home', '.']]\n"
          ]
        }
      ]
    },
    {
      "cell_type": "code",
      "source": [
        "for i in range(len(ListOfWord)):\n",
        "      ListOfWord[i] = ' '.join(ListOfWord[i]) #Converting all words in to sentences\n",
        "print(ListOfWord)"
      ],
      "metadata": {
        "colab": {
          "base_uri": "https://localhost:8080/"
        },
        "id": "C69WrUNqR1ZW",
        "outputId": "d8b25fac-aee3-4e80-e63d-86658be0c813"
      },
      "execution_count": 76,
      "outputs": [
        {
          "output_type": "stream",
          "name": "stdout",
          "text": [
            "['Once upon time , lived monkey mango tree bank river .', 'The mango tree sweetest .', 'The tree bore fruit year-round .', 'The monkey used live happily tree eating tasty fruit playing tree .', 'On particular day , crocodile came near mango tree .', 'He seemed exhausted .', 'The monkey offered delicious mango tree .', 'The crocodile loved mango thanked monkey .', 'From , crocodile used visit monkey every day became good friend .', 'One day crocodile thought take mango wife .', 'When wife ate mango , demanded something absurd crocodile .', 'She said fruit tasty , delicious heart monkey regularly eats mango !', 'She ordered crocodile bring monkey ’ heart .', 'The crocodile shocked demand .', 'The monkey friend .', 'How could betray ?', 'He declined kill monkey bring heart .', 'The crocodile ’ wife adamant getting monkey ’ heart .', 'She told crocodile keeping well doctor recommended eat monkey ’ heart recover .', 'She even threatened crocodile ’ get monkey ’ heart , would surely die .', 'The crocodile give order .', 'With heavy heart , crocodile left get monkey .', 'He went monkey said , “ Friend , wife loved mango sent .', 'She invited house thank you. ” The monkey agreed sat crocodile ’ back crocodile could take house .', 'In middle river , crocodile began sinking .', 'The monkey got frightened asked crocodile sinking .', 'The crocodile , knowing escape monkey , replied , “ Forgive , friend .', 'My wife need eat heart save life .', 'That ’ I taking me. ” The monkey outraged .', 'The monkey smart .', 'He kept calm told crocodile would happy save wife ’ life left heart mango tree .', 'The monkey told quickly go get heart tree .', 'The crocodile accepted turned back .', 'As soon reached tree , monkey jumped onto tree said , “ O foolish crocodile , someone take heart keep somewhere else ?', 'You deceived friend .', 'Now go never come back .', 'The ashamed crocodile went back home .']\n"
          ]
        }
      ]
    },
    {
      "cell_type": "code",
      "source": [
        "print(ListOfWord)"
      ],
      "metadata": {
        "colab": {
          "base_uri": "https://localhost:8080/"
        },
        "id": "8KimzLe6cqYz",
        "outputId": "872d18ec-cb16-487f-ebe1-02bb3e5cf3dc"
      },
      "execution_count": 77,
      "outputs": [
        {
          "output_type": "stream",
          "name": "stdout",
          "text": [
            "['Once upon time , lived monkey mango tree bank river .', 'The mango tree sweetest .', 'The tree bore fruit year-round .', 'The monkey used live happily tree eating tasty fruit playing tree .', 'On particular day , crocodile came near mango tree .', 'He seemed exhausted .', 'The monkey offered delicious mango tree .', 'The crocodile loved mango thanked monkey .', 'From , crocodile used visit monkey every day became good friend .', 'One day crocodile thought take mango wife .', 'When wife ate mango , demanded something absurd crocodile .', 'She said fruit tasty , delicious heart monkey regularly eats mango !', 'She ordered crocodile bring monkey ’ heart .', 'The crocodile shocked demand .', 'The monkey friend .', 'How could betray ?', 'He declined kill monkey bring heart .', 'The crocodile ’ wife adamant getting monkey ’ heart .', 'She told crocodile keeping well doctor recommended eat monkey ’ heart recover .', 'She even threatened crocodile ’ get monkey ’ heart , would surely die .', 'The crocodile give order .', 'With heavy heart , crocodile left get monkey .', 'He went monkey said , “ Friend , wife loved mango sent .', 'She invited house thank you. ” The monkey agreed sat crocodile ’ back crocodile could take house .', 'In middle river , crocodile began sinking .', 'The monkey got frightened asked crocodile sinking .', 'The crocodile , knowing escape monkey , replied , “ Forgive , friend .', 'My wife need eat heart save life .', 'That ’ I taking me. ” The monkey outraged .', 'The monkey smart .', 'He kept calm told crocodile would happy save wife ’ life left heart mango tree .', 'The monkey told quickly go get heart tree .', 'The crocodile accepted turned back .', 'As soon reached tree , monkey jumped onto tree said , “ O foolish crocodile , someone take heart keep somewhere else ?', 'You deceived friend .', 'Now go never come back .', 'The ashamed crocodile went back home .']\n"
          ]
        }
      ]
    },
    {
      "cell_type": "markdown",
      "source": [
        "### This is just for practice purpose, that is randomly picking stories and then Pre-processing it"
      ],
      "metadata": {
        "id": "X7JRfKPuvdVX"
      }
    },
    {
      "cell_type": "code",
      "source": [
        "from nltk.tokenize import sent_tokenize"
      ],
      "metadata": {
        "id": "VFpZj9fdvwQS"
      },
      "execution_count": 78,
      "outputs": []
    },
    {
      "cell_type": "code",
      "source": [
        "from nltk.corpus import stopwords\n",
        "nltk.download('stopwords')"
      ],
      "metadata": {
        "colab": {
          "base_uri": "https://localhost:8080/"
        },
        "id": "AnJmF2psw6W_",
        "outputId": "3cf868b7-412e-4396-e4cc-dd1eec9f3e39"
      },
      "execution_count": 88,
      "outputs": [
        {
          "output_type": "stream",
          "name": "stderr",
          "text": [
            "[nltk_data] Downloading package stopwords to /root/nltk_data...\n",
            "[nltk_data]   Package stopwords is already up-to-date!\n"
          ]
        },
        {
          "output_type": "execute_result",
          "data": {
            "text/plain": [
              "True"
            ]
          },
          "metadata": {},
          "execution_count": 88
        }
      ]
    },
    {
      "cell_type": "code",
      "source": [
        "corpus = '''There once was a boy who grew bored while watching over the village sheep.\n",
        "He wanted to make things more exciting. So, he yelled out that he saw a wolf chasing the sheep. All the villagers came running to drive the wolf away. However, they saw no wolf. The boy was amused, but the villagers were not. They told him not to do it again. Shortly after, he repeated this antic. The villagers came running again, only to find that he was lying. Later that day, the boy really sees a wolf sneaking amongst the flock. He jumped up and called out for help. But no one came this time because they thought he was still joking around. At sunset, the villagers looked for the boy. He had not returned with their sheep. They found him crying. He told them that there really was a wolf, and the entire flock was gone. An old man came to comfort him and told him that nobody would believe a liar even when they are being honest.'''"
      ],
      "metadata": {
        "id": "ZNMSY6M3vxrq"
      },
      "execution_count": 115,
      "outputs": []
    },
    {
      "cell_type": "code",
      "source": [
        "SentenceTok = sent_tokenize(corpus) #the sent_tokenize(corpus) function from the NLTK library automatically returns a list of sentences, which is why SentenceTok is a list.\n",
        "print(SentenceTok)"
      ],
      "metadata": {
        "colab": {
          "base_uri": "https://localhost:8080/"
        },
        "id": "9xCko6oD-1Sm",
        "outputId": "f819e835-34cb-4f83-9fb9-8010f31256bb"
      },
      "execution_count": 117,
      "outputs": [
        {
          "output_type": "stream",
          "name": "stdout",
          "text": [
            "['There once was a boy who grew bored while watching over the village sheep.', 'He wanted to make things more exciting.', 'So, he yelled out that he saw a wolf chasing the sheep.', 'All the villagers came running to drive the wolf away.', 'However, they saw no wolf.', 'The boy was amused, but the villagers were not.', 'They told him not to do it again.', 'Shortly after, he repeated this antic.', 'The villagers came running again, only to find that he was lying.', 'Later that day, the boy really sees a wolf sneaking amongst the flock.', 'He jumped up and called out for help.', 'But no one came this time because they thought he was still joking around.', 'At sunset, the villagers looked for the boy.', 'He had not returned with their sheep.', 'They found him crying.', 'He told them that there really was a wolf, and the entire flock was gone.', 'An old man came to comfort him and told him that nobody would believe a liar even when they are being honest.']\n"
          ]
        }
      ]
    },
    {
      "cell_type": "code",
      "source": [
        "type(SentenceTok)"
      ],
      "metadata": {
        "colab": {
          "base_uri": "https://localhost:8080/"
        },
        "id": "4cOv1W2d-_FK",
        "outputId": "cbe2e9df-d98a-4486-edc4-68a83e0d2522"
      },
      "execution_count": 119,
      "outputs": [
        {
          "output_type": "execute_result",
          "data": {
            "text/plain": [
              "list"
            ]
          },
          "metadata": {},
          "execution_count": 119
        }
      ]
    },
    {
      "cell_type": "code",
      "source": [
        "from nltk.stem import WordNetLemmatizer\n",
        "new = []\n",
        "lemma = WordNetLemmatizer()\n",
        "for i in range(len(SentenceTok)):\n",
        "  Sent_To_Word_tokenize = word_tokenize(SentenceTok[i])\n",
        "  lematized_word = [lemma.lemmatize(word) for word in Sent_To_Word_tokenize if word not in set(stopwords.words('english'))]\n",
        "  new.append(' '.join(lematized_word))\n",
        "\n",
        "print(SentenceTok)"
      ],
      "metadata": {
        "colab": {
          "base_uri": "https://localhost:8080/"
        },
        "id": "K6oLB8h3BoGA",
        "outputId": "f903e4d9-cdb1-4be7-edf7-f23897798a67"
      },
      "execution_count": 123,
      "outputs": [
        {
          "output_type": "stream",
          "name": "stdout",
          "text": [
            "['There boy grew bored watching village sheep .', 'He wanted make thing exciting .', 'So , yelled saw wolf chasing sheep .', 'All villager came running drive wolf away .', 'However , saw wolf .', 'The boy amused , villager .', 'They told .', 'Shortly , repeated antic .', 'The villager came running , find lying .', 'Later day , boy really see wolf sneaking amongst flock .', 'He jumped called help .', 'But one came time thought still joking around .', 'At sunset , villager looked boy .', 'He returned sheep .', 'They found cry .', 'He told really wolf , entire flock gone .', 'An old man came comfort told nobody would believe liar even honest .']\n"
          ]
        }
      ]
    }
  ]
}