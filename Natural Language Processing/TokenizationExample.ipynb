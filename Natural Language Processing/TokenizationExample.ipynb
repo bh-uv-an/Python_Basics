{
  "nbformat": 4,
  "nbformat_minor": 0,
  "metadata": {
    "colab": {
      "provenance": []
    },
    "kernelspec": {
      "name": "python3",
      "display_name": "Python 3"
    },
    "language_info": {
      "name": "python"
    }
  },
  "cells": [
    {
      "cell_type": "code",
      "execution_count": 2,
      "metadata": {
        "colab": {
          "base_uri": "https://localhost:8080/"
        },
        "id": "N5xnFUaSepWD",
        "outputId": "557dccb5-7d88-4ee0-c255-ee3a7f7d93c4"
      },
      "outputs": [
        {
          "output_type": "stream",
          "name": "stdout",
          "text": [
            "Requirement already satisfied: nltk in /usr/local/lib/python3.10/dist-packages (3.8.1)\n",
            "Requirement already satisfied: click in /usr/local/lib/python3.10/dist-packages (from nltk) (8.1.7)\n",
            "Requirement already satisfied: joblib in /usr/local/lib/python3.10/dist-packages (from nltk) (1.4.2)\n",
            "Requirement already satisfied: regex>=2021.8.3 in /usr/local/lib/python3.10/dist-packages (from nltk) (2024.9.11)\n",
            "Requirement already satisfied: tqdm in /usr/local/lib/python3.10/dist-packages (from nltk) (4.66.5)\n"
          ]
        },
        {
          "output_type": "stream",
          "name": "stderr",
          "text": [
            "[nltk_data] Downloading package punkt to /root/nltk_data...\n",
            "[nltk_data]   Unzipping tokenizers/punkt.zip.\n"
          ]
        },
        {
          "output_type": "execute_result",
          "data": {
            "text/plain": [
              "True"
            ]
          },
          "metadata": {},
          "execution_count": 2
        }
      ],
      "source": [
        "!pip install nltk\n",
        "import nltk\n",
        "nltk.download('punkt')"
      ]
    },
    {
      "cell_type": "code",
      "source": [
        "from nltk.tokenize import sent_tokenize #sent_tokenize is responsible for converting paragraphs into sentence\n",
        "corpus = \"Hello my name is Bhuvan Shetty. I want to be very expert in Gen AI. That is the reason Iam working so hard to study all concepts\"\n",
        "# output:\n",
        "# ['Hello my name is Bhuvan Shetty.',\n",
        "#  'I want to be very expert in Gen AI.',\n",
        "#  'That is the reason Iam working so hard to study all concepts']"
      ],
      "metadata": {
        "id": "wm6vikTYe5s1"
      },
      "execution_count": 3,
      "outputs": []
    },
    {
      "cell_type": "code",
      "source": [
        "document = sent_tokenize(corpus)"
      ],
      "metadata": {
        "id": "qXGabIOofdCe"
      },
      "execution_count": 4,
      "outputs": []
    },
    {
      "cell_type": "code",
      "source": [
        "print(document)"
      ],
      "metadata": {
        "colab": {
          "base_uri": "https://localhost:8080/"
        },
        "id": "u5QT4zxOhA3j",
        "outputId": "84435427-f893-442e-cc79-c1d3893f9edc"
      },
      "execution_count": 5,
      "outputs": [
        {
          "output_type": "stream",
          "name": "stdout",
          "text": [
            "['Hello my name is Bhuvan Shetty.', 'I want to be very expert in Gen AI.', 'That is the reason Iam working so hard to study all concepts']\n"
          ]
        }
      ]
    },
    {
      "cell_type": "code",
      "source": [
        "#Tokenization\n",
        "#Pragraphs->words\n",
        "#sentences->words\n",
        "\n",
        "from nltk.tokenize import word_tokenize #this would help in converting the corpus into words there is no need for converting it to sentence directy\n",
        "                                        #will be converted to words\n",
        "words = word_tokenize(corpus)\n",
        "print(words)"
      ],
      "metadata": {
        "colab": {
          "base_uri": "https://localhost:8080/"
        },
        "id": "-W8cozisjCbS",
        "outputId": "037b78c9-e654-4e88-ba33-d76b833e33f9"
      },
      "execution_count": 6,
      "outputs": [
        {
          "output_type": "stream",
          "name": "stdout",
          "text": [
            "['Hello', 'my', 'name', 'is', 'Bhuvan', 'Shetty', '.', 'I', 'want', 'to', 'be', 'very', 'expert', 'in', 'Gen', 'AI', '.', 'That', 'is', 'the', 'reason', 'Iam', 'working', 'so', 'hard', 'to', 'study', 'all', 'concepts']\n"
          ]
        }
      ]
    },
    {
      "cell_type": "code",
      "source": [
        "#sentences->words\n",
        "for sentence in document:\n",
        "  print(word_tokenize(sentence))"
      ],
      "metadata": {
        "colab": {
          "base_uri": "https://localhost:8080/"
        },
        "id": "PleNbSL8kWdG",
        "outputId": "cf9666b2-bd1c-40e1-8607-d3680ad20d38"
      },
      "execution_count": 7,
      "outputs": [
        {
          "output_type": "stream",
          "name": "stdout",
          "text": [
            "['Hello', 'my', 'name', 'is', 'Bhuvan', 'Shetty', '.']\n",
            "['I', 'want', 'to', 'be', 'very', 'expert', 'in', 'Gen', 'AI', '.']\n",
            "['That', 'is', 'the', 'reason', 'Iam', 'working', 'so', 'hard', 'to', 'study', 'all', 'concepts']\n"
          ]
        }
      ]
    },
    {
      "cell_type": "code",
      "source": [
        "from nltk.tokenize import wordpunct_tokenize\n",
        "PunctTokenize = wordpunct_tokenize(corpus)\n",
        "print(PunctTokenize)"
      ],
      "metadata": {
        "colab": {
          "base_uri": "https://localhost:8080/"
        },
        "id": "zc3i1BQ7lGAr",
        "outputId": "8140fca4-eab4-4eec-f561-4d8a85b25752"
      },
      "execution_count": 8,
      "outputs": [
        {
          "output_type": "stream",
          "name": "stdout",
          "text": [
            "['Hello', 'my', 'name', 'is', 'Bhuvan', 'Shetty', '.', 'I', 'want', 'to', 'be', 'very', 'expert', 'in', 'Gen', 'AI', '.', 'That', 'is', 'the', 'reason', 'Iam', 'working', 'so', 'hard', 'to', 'study', 'all', 'concepts']\n"
          ]
        }
      ]
    },
    {
      "cell_type": "code",
      "source": [
        "from nltk.tokenize import TreebankWordTokenizer\n",
        "tokenizer = TreebankWordTokenizer()\n",
        "tokenizer.tokenize(corpus)"
      ],
      "metadata": {
        "colab": {
          "base_uri": "https://localhost:8080/"
        },
        "id": "_QhkVLUje50x",
        "outputId": "1cc8d08b-2f09-442e-cf66-276d2beb47be"
      },
      "execution_count": 9,
      "outputs": [
        {
          "output_type": "execute_result",
          "data": {
            "text/plain": [
              "['Hello',\n",
              " 'my',\n",
              " 'name',\n",
              " 'is',\n",
              " 'Bhuvan',\n",
              " 'Shetty.',\n",
              " 'I',\n",
              " 'want',\n",
              " 'to',\n",
              " 'be',\n",
              " 'very',\n",
              " 'expert',\n",
              " 'in',\n",
              " 'Gen',\n",
              " 'AI.',\n",
              " 'That',\n",
              " 'is',\n",
              " 'the',\n",
              " 'reason',\n",
              " 'Iam',\n",
              " 'working',\n",
              " 'so',\n",
              " 'hard',\n",
              " 'to',\n",
              " 'study',\n",
              " 'all',\n",
              " 'concepts']"
            ]
          },
          "metadata": {},
          "execution_count": 9
        }
      ]
    }
  ]
}