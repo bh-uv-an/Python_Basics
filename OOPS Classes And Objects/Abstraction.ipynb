{
 "cells": [
  {
   "cell_type": "markdown",
   "metadata": {},
   "source": [
    "### Abstraction \n",
    "Abstraction means hidding the details and then showing only the essential once This is abstraction. For example if in the case of whatsapp we are only shown with the chats and the unnecessary once that is backend all are hidden "
   ]
  },
  {
   "cell_type": "code",
   "execution_count": 5,
   "metadata": {},
   "outputs": [
    {
     "name": "stdout",
     "output_type": "stream",
     "text": [
      "This Vehicle is used for driving\n",
      "Bike is running\n"
     ]
    }
   ],
   "source": [
    "from abc import ABC,abstractmethod\n",
    "\n",
    "#Abstract Base class \n",
    "class vehicle(ABC):\n",
    "    def drive(self):\n",
    "        print('This Vehicle is used for driving')\n",
    "        \n",
    "    @abstractmethod\n",
    "    def status(self):\n",
    "        pass\n",
    "    \n",
    "class car(vehicle):\n",
    "    def status(self):\n",
    "        print(\"Car is running\")\n",
    "        \n",
    "class bike(vehicle):\n",
    "    def status(self):\n",
    "        print(\"Bike is running\")\n",
    "        \n",
    "bke = bike()\n",
    "bke.drive()\n",
    "bke.status()"
   ]
  }
 ],
 "metadata": {
  "kernelspec": {
   "display_name": "Python 3",
   "language": "python",
   "name": "python3"
  },
  "language_info": {
   "codemirror_mode": {
    "name": "ipython",
    "version": 3
   },
   "file_extension": ".py",
   "mimetype": "text/x-python",
   "name": "python",
   "nbconvert_exporter": "python",
   "pygments_lexer": "ipython3",
   "version": "3.12.0"
  }
 },
 "nbformat": 4,
 "nbformat_minor": 2
}
