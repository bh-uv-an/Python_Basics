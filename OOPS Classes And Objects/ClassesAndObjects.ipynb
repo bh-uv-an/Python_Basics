{
 "cells": [
  {
   "cell_type": "markdown",
   "metadata": {},
   "source": [
    "### Classes and Objects \n",
    "\n",
    "OOP is a programming pradigim that uses \"objects\" to desighn applications and computer programs.  allows for creating real world objects using classes and objects \n",
    "\n",
    "A class is nothing but blue print of the object "
   ]
  },
  {
   "cell_type": "code",
   "execution_count": 2,
   "metadata": {},
   "outputs": [],
   "source": [
    "class car:\n",
    "    pass\n",
    "\n",
    "audi = car()\n",
    "bmw = car()"
   ]
  },
  {
   "cell_type": "markdown",
   "metadata": {},
   "source": [
    "2. Checking directory of the particular class"
   ]
  },
  {
   "cell_type": "code",
   "execution_count": 3,
   "metadata": {},
   "outputs": [
    {
     "data": {
      "text/plain": [
       "['__class__',\n",
       " '__delattr__',\n",
       " '__dict__',\n",
       " '__dir__',\n",
       " '__doc__',\n",
       " '__eq__',\n",
       " '__format__',\n",
       " '__ge__',\n",
       " '__getattribute__',\n",
       " '__getstate__',\n",
       " '__gt__',\n",
       " '__hash__',\n",
       " '__init__',\n",
       " '__init_subclass__',\n",
       " '__le__',\n",
       " '__lt__',\n",
       " '__module__',\n",
       " '__ne__',\n",
       " '__new__',\n",
       " '__reduce__',\n",
       " '__reduce_ex__',\n",
       " '__repr__',\n",
       " '__setattr__',\n",
       " '__sizeof__',\n",
       " '__str__',\n",
       " '__subclasshook__',\n",
       " '__weakref__']"
      ]
     },
     "execution_count": 3,
     "metadata": {},
     "output_type": "execute_result"
    }
   ],
   "source": [
    "dir(audi)   #directory of the class audi"
   ]
  },
  {
   "cell_type": "markdown",
   "metadata": {},
   "source": [
    "3. Instance variable and methods "
   ]
  },
  {
   "cell_type": "code",
   "execution_count": 4,
   "metadata": {},
   "outputs": [
    {
     "name": "stdout",
     "output_type": "stream",
     "text": [
      "<class '__main__.car'>\n",
      "4\n"
     ]
    }
   ],
   "source": [
    "print(type(audi))\n",
    "audi.windows = 4    #Instance Variable \n",
    "audi.tyres = 5\n",
    "print(audi.windows)\n",
    "#this is not a proper way of initializing intsance variable "
   ]
  },
  {
   "cell_type": "markdown",
   "metadata": {},
   "source": [
    "5. Proper way of initializing instance variable "
   ]
  },
  {
   "cell_type": "code",
   "execution_count": 11,
   "metadata": {},
   "outputs": [
    {
     "name": "stdout",
     "output_type": "stream",
     "text": [
      "Bhuvan Shetty\n",
      "3\n",
      "\n",
      "\n",
      "joji\n",
      "6\n"
     ]
    }
   ],
   "source": [
    "#Instance variable and method\n",
    "class dog:\n",
    "    # __init__ is nothing but a constructor \n",
    "    def __init__(self,name,age):\n",
    "        self.name = name    #here self is responsible foe acessing instance variable\n",
    "        self.age = age      #the instance variable mentioned in the constructor only those are acessible rest of them are not acessible \n",
    "        \n",
    "#creating Object\n",
    "labra = dog(\"Bhuvan Shetty\",3)   #Creating object here\n",
    "print(labra.name)\n",
    "print(labra.age)\n",
    "\n",
    "german_shepherad = dog(\"joji\",6)\n",
    "print(\"\\n\")\n",
    "print(german_shepherad.name)\n",
    "print(german_shepherad.age)"
   ]
  },
  {
   "cell_type": "markdown",
   "metadata": {},
   "source": [
    "6. Instance methods "
   ]
  },
  {
   "cell_type": "code",
   "execution_count": 18,
   "metadata": {},
   "outputs": [
    {
     "name": "stdout",
     "output_type": "stream",
     "text": [
      "Name of car = Ritz\n",
      "Kms Driven = 400000\n",
      "Name of car = Jazz\n",
      "Kms Driven = 1000000\n"
     ]
    }
   ],
   "source": [
    "# Defining a class with instance methods\n",
    "class Car:\n",
    "    def __init__(self, name, km):\n",
    "        self.name = name\n",
    "        self.km = km \n",
    "        \n",
    "    def Car_Sale(self):\n",
    "        print(\"Name of car =\", self.name)\n",
    "        print(f\"Kms Driven = {self.km}\")\n",
    "\n",
    "car1 = Car(\"Ritz\", 400000)\n",
    "car2 = Car(\"Jazz\", 1000000)\n",
    "\n",
    "\n",
    "car1.Car_Sale()\n",
    "car2.Car_Sale()\n"
   ]
  },
  {
   "cell_type": "markdown",
   "metadata": {},
   "source": [
    "7. Simple Bank example using classes and objects "
   ]
  },
  {
   "cell_type": "code",
   "execution_count": 21,
   "metadata": {},
   "outputs": [
    {
     "name": "stdout",
     "output_type": "stream",
     "text": [
      "Amount of 2000 has been credited Suceesfully\n",
      "Amount of 500 has been withdrawed sucessfully\n",
      "Bhuvan Shetty your account balnace is 13500\n"
     ]
    }
   ],
   "source": [
    "class Bank:\n",
    "    def __init__(self,Account_number,owner_name,balance = 0):\n",
    "        self.Account_number = Account_number\n",
    "        self.owner_name = owner_name\n",
    "        self.balance = balance\n",
    "        \n",
    "    def credit(self):\n",
    "        new_balance = self.balance\n",
    "        credit_amount = int(input(\"Enter the amount you want to credit \"))\n",
    "        self.balance = self.balance + credit_amount\n",
    "        if(new_balance<self.balance):\n",
    "            print(f\"Amount of {credit_amount} has been credited Suceesfully\")\n",
    "        else :\n",
    "            print(\"Amount not credited \")\n",
    "            \n",
    "    def withdraw(self):\n",
    "        previous_balance = self.balance\n",
    "        withdraw_amount =  int(input(\"Enter the withdraw amount \"))\n",
    "        self.balance = self.balance - withdraw_amount\n",
    "        if(previous_balance>self.balance):\n",
    "            print(f\"Amount of {withdraw_amount} has been withdrawed sucessfully\")\n",
    "        else:\n",
    "            print(\"There was some problem while withdrawing money\")\n",
    "            \n",
    "    def Balance_Check(self):\n",
    "        print(f\"{self.owner_name} your account balnace is {self.balance}\")\n",
    "        \n",
    "Bhuvan_Shetty = Bank(111,\"Bhuvan Shetty\",12000)\n",
    "Aman_Shenoy = Bank(121,\"Aman Shenoy\",24000)\n",
    "Ankith_Suvarna = Bank(1717,\"Ankith_suvarna\",500000)\n",
    "\n",
    "Bhuvan_Shetty.credit()\n",
    "Bhuvan_Shetty.withdraw()\n",
    "Bhuvan_Shetty.Balance_Check()\n",
    "\n",
    "       "
   ]
  }
 ],
 "metadata": {
  "kernelspec": {
   "display_name": "Python 3",
   "language": "python",
   "name": "python3"
  },
  "language_info": {
   "codemirror_mode": {
    "name": "ipython",
    "version": 3
   },
   "file_extension": ".py",
   "mimetype": "text/x-python",
   "name": "python",
   "nbconvert_exporter": "python",
   "pygments_lexer": "ipython3",
   "version": "3.12.0"
  }
 },
 "nbformat": 4,
 "nbformat_minor": 2
}
