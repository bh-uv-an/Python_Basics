{
 "cells": [
  {
   "cell_type": "markdown",
   "metadata": {},
   "source": [
    "### Enacpsulation And Abstraction\n",
    "\n",
    "Encapsulation and abstraction are two fundmantal principles of Object Oriented Programming that helps in desighning robust, maintainable and reusable code. Encapsulation involves bundling data and methods that operate on a data with a single unit, while abstraction means hiding the complex details and showing only the essentail once  \n",
    "\n",
    "#### Encapsulation:\n",
    "Encapsilation is the concept of wrapping data and methods together in a single unit. It restricts direct access to some of the objects components which is a means of accidental interference and misuse of data  \n",
    "  \n",
    "  &emsp;  Encapsulation can be done using getter and setter method. There are three access vairables private public and protected. These are required for encapsulation to work properly"
   ]
  },
  {
   "cell_type": "code",
   "execution_count": 1,
   "metadata": {},
   "outputs": [
    {
     "name": "stdout",
     "output_type": "stream",
     "text": [
      "Bhuvan\n"
     ]
    }
   ],
   "source": [
    "class person:\n",
    "    def __init__(self, name, age):\n",
    "        self.name =  name #these are public variable which can be used outside of the specific class \n",
    "        self.age =  age #these are public variable\n",
    "        \n",
    "per = person('Bhuvan',22)\n",
    "print(per.name)"
   ]
  },
  {
   "cell_type": "markdown",
   "metadata": {},
   "source": [
    "2. Defining the instance variable using private variable"
   ]
  },
  {
   "cell_type": "code",
   "execution_count": 5,
   "metadata": {},
   "outputs": [
    {
     "name": "stdout",
     "output_type": "stream",
     "text": [
      "['__class__', '__delattr__', '__dict__', '__dir__', '__doc__', '__eq__', '__format__', '__ge__', '__getattribute__', '__getstate__', '__gt__', '__hash__', '__init__', '__init_subclass__', '__le__', '__lt__', '__module__', '__ne__', '__new__', '__reduce__', '__reduce_ex__', '__repr__', '__setattr__', '__sizeof__', '__str__', '__subclasshook__', '__weakref__', '_person__age', '_person__name', 'gender']\n",
      "'person' object has no attribute '__name'\n"
     ]
    }
   ],
   "source": [
    "class person:\n",
    "    def __init__(self, name, age, gender):\n",
    "        self.__name =  name #these are private variable which cannot be used outside of the specific class \n",
    "        self.__age =  age #these are private variable\n",
    "        self.gender = gender\n",
    "        \n",
    "per = person('Bhuvan',22,\"male\")\n",
    "print(dir(per)) # here we cannot see any kind of private \n",
    "\n",
    "try:\n",
    "    print(per.__name)   #here we are not able to acess private variable \n",
    "except Exception as exc:\n",
    "    print(exc)\n",
    "    \n",
    "#here since we cannot use private variable outside the class therefore we use getter and setter method "
   ]
  },
  {
   "cell_type": "markdown",
   "metadata": {},
   "source": [
    "3. Defining the protected variable using protected "
   ]
  },
  {
   "cell_type": "code",
   "execution_count": 11,
   "metadata": {},
   "outputs": [
    {
     "name": "stdout",
     "output_type": "stream",
     "text": [
      "Bhuvan\n",
      "22\n",
      "Shashank\n"
     ]
    }
   ],
   "source": [
    "class person:\n",
    "    def __init__(self, name, age):\n",
    "        self._name =  name #these are protected variable outside the class but is accessible from derived class \n",
    "        self._age =  age #these are protected variable\n",
    "\n",
    "class son(person):\n",
    "    def __init__(self, name, age):\n",
    "        super().__init__(name, age)\n",
    "\n",
    "try:\n",
    "    per = person('Bhuvan',22)\n",
    "    print(per._name)\n",
    "    print(per._age)\n",
    "    sn = son('Shashank',20)\n",
    "    print(sn._name)\n",
    "except Exception as exc:\n",
    "    print(exc)"
   ]
  },
  {
   "cell_type": "markdown",
   "metadata": {},
   "source": [
    "4. Encapsulation with getter method"
   ]
  },
  {
   "cell_type": "code",
   "execution_count": 13,
   "metadata": {},
   "outputs": [
    {
     "name": "stdout",
     "output_type": "stream",
     "text": [
      "Name = Jam \n",
      "Age = 90\n"
     ]
    }
   ],
   "source": [
    "class person:\n",
    "    def __init__(self, name, age):\n",
    "        self.__name =  name #private acess modifier\n",
    "        self.__age =  age\n",
    "        \n",
    "#Using getter method for name and age\n",
    "    def get_name(self):\n",
    "        return self.__name, self.__age\n",
    "    \n",
    "per = person(\"Jam\",90)\n",
    "a,b = per.get_name()\n",
    "print(f\"Name = {a} \\nAge = {b}\")"
   ]
  },
  {
   "cell_type": "markdown",
   "metadata": {},
   "source": [
    "5. Encapsulation with setter method "
   ]
  },
  {
   "cell_type": "code",
   "execution_count": 15,
   "metadata": {},
   "outputs": [
    {
     "name": "stdout",
     "output_type": "stream",
     "text": [
      "Joji\n",
      "22\n",
      "45\n",
      "not possible to set the age! \n"
     ]
    }
   ],
   "source": [
    "class person:\n",
    "    def __init__(self, name, age):\n",
    "        self.__name =  name #private acess modifier\n",
    "        self.__age =  age\n",
    "        \n",
    "    #using setter method \n",
    "    def setting_age(self,age):\n",
    "        if age>0:\n",
    "            self.__age = age\n",
    "            return self.__age\n",
    "        else:\n",
    "            return(\"not possible to set the age! \")\n",
    "    \n",
    "    #using getter method \n",
    "    def get_name(self):\n",
    "        return self.__name\n",
    "    \n",
    "    #using getter method \n",
    "    def get_age(self):\n",
    "        return self.__age\n",
    "    \n",
    "persn = person('Joji',22)\n",
    "\n",
    "print(persn.get_name())\n",
    "print(persn.get_age())\n",
    "print(persn.setting_age(45))\n",
    "print(persn.setting_age(-5))\n",
    "        "
   ]
  }
 ],
 "metadata": {
  "kernelspec": {
   "display_name": "Python 3",
   "language": "python",
   "name": "python3"
  },
  "language_info": {
   "codemirror_mode": {
    "name": "ipython",
    "version": 3
   },
   "file_extension": ".py",
   "mimetype": "text/x-python",
   "name": "python",
   "nbconvert_exporter": "python",
   "pygments_lexer": "ipython3",
   "version": "3.12.0"
  }
 },
 "nbformat": 4,
 "nbformat_minor": 2
}
