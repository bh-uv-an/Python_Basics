{
 "cells": [
  {
   "cell_type": "markdown",
   "metadata": {},
   "source": [
    "### Inheritance \n",
    "Inheritance is a fundamental concpet in Object Oriented programming(OOP) that allows a class ti inherit properties from another class. \n",
    "This lesson covers  \n",
    "-> Single Inheritance  \n",
    "-> Multiple inheritance  \n",
    "Demonstarting how to create and use them in python "
   ]
  },
  {
   "cell_type": "markdown",
   "metadata": {},
   "source": [
    "1. Inheritance "
   ]
  },
  {
   "cell_type": "code",
   "execution_count": 5,
   "metadata": {},
   "outputs": [
    {
     "name": "stdout",
     "output_type": "stream",
     "text": [
      "The car you will drive will have the following. It will come with:\n",
      " Windows = 4 \n",
      " Doors = 5 \n",
      " Engine_type = Petrol\n"
     ]
    }
   ],
   "source": [
    "class car:\n",
    "    def __init__(self,windows,doors,engine_type):\n",
    "        self.windows = windows\n",
    "        self.doors = doors \n",
    "        self.engine_type = engine_type\n",
    "    \n",
    "    def drive(self):\n",
    "        print(f\"The car you will drive will have the following. It will come with:\\n Windows = {self.windows} \\n Doors = {self.doors} \\n Engine_type = {self.engine_type}\")\n",
    "\n",
    "Ritz = car(4,5,\"Petrol\")\n",
    "Ritz.drive()"
   ]
  },
  {
   "cell_type": "markdown",
   "metadata": {},
   "source": [
    "2. Single Level Inheritance "
   ]
  },
  {
   "cell_type": "code",
   "execution_count": 10,
   "metadata": {},
   "outputs": [
    {
     "name": "stdout",
     "output_type": "stream",
     "text": [
      "Do it support self driving True\n",
      "The car you will drive will have the following. It will come with:\n",
      " Windows = 4 \n",
      " Doors = 5 \n",
      " Engine_type = electric\n"
     ]
    }
   ],
   "source": [
    "class tesla(car):\n",
    "    def __init__(self,windows,doors,engine_type,self_driving):\n",
    "        super().__init__(windows,doors,engine_type)\n",
    "        self.self_driving = self_driving\n",
    "        \n",
    "    def istesla(self):\n",
    "        print(f\"Do it support self driving {self.self_driving}\")\n",
    "        \n",
    "new_car = tesla(4,5,\"electric\",True)\n",
    "new_car.istesla()\n",
    "new_car.drive()\n"
   ]
  },
  {
   "cell_type": "markdown",
   "metadata": {},
   "source": [
    "3. Multiple Inheritance"
   ]
  },
  {
   "cell_type": "code",
   "execution_count": 20,
   "metadata": {},
   "outputs": [
    {
     "name": "stdout",
     "output_type": "stream",
     "text": [
      "Owner's name = BhuvanShetty\n",
      "Values are Jaguar, 2015, K12these are the values\n",
      "BhuvanShetty\n"
     ]
    }
   ],
   "source": [
    "#Multiple inheritance:\n",
    "#In Multiple inheritance there will be many parent class and there will be a single child class the child class \n",
    "#will be inheritng the properties from the parent class this is how the multiple inheritance will be working \n",
    "class car:\n",
    "    def __init__(self,name,model,engine):\n",
    "        self.name = name \n",
    "        self.model = model \n",
    "        self.engine = engine \n",
    "        \n",
    "    def printing_values(self):\n",
    "        print(f\"Values are {self.name}, {self.model}, {self.engine} these are the values\")\n",
    "        \n",
    "class car_owner:\n",
    "    def __init__(self,owner_name):\n",
    "        self.owner_name = owner_name\n",
    "        \n",
    "class derived_class(car,car_owner):\n",
    "    def __init__(self,name,model,engine,owner_name):\n",
    "        car.__init__(self,name,model,engine) \n",
    "        car_owner.__init__(self,owner_name)  \n",
    "        \n",
    "    def printing_values(self):\n",
    "        print(f\"Owner's name = {self.owner_name}\")   \n",
    "        super().printing_values()  \n",
    "        \n",
    "        \n",
    "jazz = derived_class(\"Jaguar\",2015,\"K12\",\"BhuvanShetty\")\n",
    "jazz.printing_values()\n",
    "print(jazz.owner_name)"
   ]
  }
 ],
 "metadata": {
  "kernelspec": {
   "display_name": "Python 3",
   "language": "python",
   "name": "python3"
  },
  "language_info": {
   "codemirror_mode": {
    "name": "ipython",
    "version": 3
   },
   "file_extension": ".py",
   "mimetype": "text/x-python",
   "name": "python",
   "nbconvert_exporter": "python",
   "pygments_lexer": "ipython3",
   "version": "3.12.0"
  }
 },
 "nbformat": 4,
 "nbformat_minor": 2
}
