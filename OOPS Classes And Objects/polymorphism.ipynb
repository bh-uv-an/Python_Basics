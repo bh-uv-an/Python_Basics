{
 "cells": [
  {
   "cell_type": "markdown",
   "metadata": {},
   "source": [
    "### Polymorphism \n",
    "\n",
    "Polymorphism is a core concept in Object oriented programming(OOP) that allows objects of different class to be treated as object of common superclass. It provides way to perform a single actions in different forms. THis is the main adavantage of Polymorphism. Polymorohism is mainly achived through method overriding and interfaces \n",
    "\n",
    "1. Method Overriding  \n",
    "Method Overriding allows a child class to provide a specific implementation of a method that is already defined in the parent class"
   ]
  },
  {
   "cell_type": "code",
   "execution_count": 4,
   "metadata": {},
   "outputs": [
    {
     "name": "stdout",
     "output_type": "stream",
     "text": [
      "Meoow Meoow\n",
      "Baaw Baaw\n"
     ]
    }
   ],
   "source": [
    "#Example progrma for method overloading\n",
    "#here all the methods will have same method name\n",
    "class speak:\n",
    "    def speak(self):\n",
    "        print(\"The animal is speaking\")\n",
    "        \n",
    "class dog(speak):\n",
    "    def speak(self):\n",
    "        print(\"Baaw Baaw\")\n",
    "\n",
    "class cat(speak):\n",
    "    def speak(self):\n",
    "        print(\"Meoow Meoow\")\n",
    "\n",
    "def AnimalSpeak(animal):\n",
    "    animal.speak()\n",
    "    \n",
    "\n",
    "Dog = dog()\n",
    "Cat = cat()\n",
    "\n",
    "\n",
    "AnimalSpeak(Cat)\n",
    "AnimalSpeak(Dog)"
   ]
  },
  {
   "cell_type": "markdown",
   "metadata": {},
   "source": [
    "2. Polymorphism with functions and methods "
   ]
  },
  {
   "cell_type": "code",
   "execution_count": 18,
   "metadata": {},
   "outputs": [
    {
     "name": "stdout",
     "output_type": "stream",
     "text": [
      "Circle =  50.26548245743669\n",
      "Square =  20\n",
      "Rectangle =  84\n"
     ]
    }
   ],
   "source": [
    "import math\n",
    "class Shape:\n",
    "    #base class \n",
    "    def area(self):\n",
    "        return(\"THe araea of the figure is \")\n",
    "    \n",
    "class rectangle(Shape):\n",
    "    #this is derived class \n",
    "    def __init__(self,length,breadth):\n",
    "        self.length = length\n",
    "        self.breadth = breadth\n",
    "        \n",
    "    def area(self):\n",
    "        return(2*self.length*self.breadth)\n",
    "    \n",
    "class square(Shape):\n",
    "    #this is also derived class \n",
    "    def __init__(self,length):\n",
    "        self.length = length\n",
    "        \n",
    "    def area(self):\n",
    "        return(4*self.length)\n",
    "    \n",
    "class circle(Shape):\n",
    "    def __init__(self,radius):\n",
    "        self.radius = radius \n",
    "    \n",
    "    def area(self):\n",
    "        return(math.pi*self.radius*self.radius)\n",
    "    \n",
    "def getArea(object):\n",
    "    return(object.area())\n",
    "    \n",
    "cir = circle(4)\n",
    "sqr = square(5)\n",
    "rec = rectangle(6,7)\n",
    "\n",
    "print(\"Circle = \",getArea(cir))\n",
    "print(\"Square = \",getArea(sqr))\n",
    "print(\"Rectangle = \",getArea(rec))"
   ]
  },
  {
   "cell_type": "markdown",
   "metadata": {},
   "source": [
    "3.Abstract Base Class nothing but interface whic we use in java  \n",
    "  \n",
    "Abstract Class: They enforce that derived class implement particular methods promoting consistency across different implementations."
   ]
  },
  {
   "cell_type": "code",
   "execution_count": 20,
   "metadata": {},
   "outputs": [
    {
     "name": "stdout",
     "output_type": "stream",
     "text": [
      "Car engine started\n",
      "Bike Started\n"
     ]
    }
   ],
   "source": [
    "from abc import ABC, abstractmethod #importing abstract class\n",
    "\n",
    "#define an abstract class \n",
    "#Base class\n",
    "class vehicle(ABC):\n",
    "    @abstractmethod\n",
    "    def startEngine():\n",
    "        pass\n",
    "    \n",
    "#derived class \n",
    "class car(vehicle):\n",
    "    def startEngine(self):\n",
    "        print(\"Car engine started\")\n",
    "        \n",
    "class bike(vehicle):\n",
    "    def startEngine(self):\n",
    "        print(\"Bike Started\")\n",
    "        \n",
    "def initiate(obj):\n",
    "    obj.startEngine()\n",
    "    \n",
    "Car = car()\n",
    "Bike = bike()\n",
    "\n",
    "initiate(Car)\n",
    "initiate(Bike)"
   ]
  }
 ],
 "metadata": {
  "kernelspec": {
   "display_name": "Python 3",
   "language": "python",
   "name": "python3"
  },
  "language_info": {
   "codemirror_mode": {
    "name": "ipython",
    "version": 3
   },
   "file_extension": ".py",
   "mimetype": "text/x-python",
   "name": "python",
   "nbconvert_exporter": "python",
   "pygments_lexer": "ipython3",
   "version": "3.12.0"
  }
 },
 "nbformat": 4,
 "nbformat_minor": 2
}
