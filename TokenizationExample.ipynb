{
  "nbformat": 4,
  "nbformat_minor": 0,
  "metadata": {
    "colab": {
      "provenance": [],
      "authorship_tag": "ABX9TyMZUj9p1A0oyirKk5mxfuJR",
      "include_colab_link": true
    },
    "kernelspec": {
      "name": "python3",
      "display_name": "Python 3"
    },
    "language_info": {
      "name": "python"
    }
  },
  "cells": [
    {
      "cell_type": "markdown",
      "metadata": {
        "id": "view-in-github",
        "colab_type": "text"
      },
      "source": [
        "<a href=\"https://colab.research.google.com/github/bh-uv-an/Python_Basics/blob/main/TokenizationExample.ipynb\" target=\"_parent\"><img src=\"https://colab.research.google.com/assets/colab-badge.svg\" alt=\"Open In Colab\"/></a>"
      ]
    },
    {
      "cell_type": "code",
      "execution_count": 11,
      "metadata": {
        "colab": {
          "base_uri": "https://localhost:8080/"
        },
        "id": "N5xnFUaSepWD",
        "outputId": "2a046314-3b26-4f95-a434-2e6ebe4682b4"
      },
      "outputs": [
        {
          "output_type": "stream",
          "name": "stdout",
          "text": [
            "Requirement already satisfied: nltk in /usr/local/lib/python3.10/dist-packages (3.8.1)\n",
            "Requirement already satisfied: click in /usr/local/lib/python3.10/dist-packages (from nltk) (8.1.7)\n",
            "Requirement already satisfied: joblib in /usr/local/lib/python3.10/dist-packages (from nltk) (1.4.2)\n",
            "Requirement already satisfied: regex>=2021.8.3 in /usr/local/lib/python3.10/dist-packages (from nltk) (2024.9.11)\n",
            "Requirement already satisfied: tqdm in /usr/local/lib/python3.10/dist-packages (from nltk) (4.66.5)\n"
          ]
        },
        {
          "output_type": "stream",
          "name": "stderr",
          "text": [
            "[nltk_data] Downloading package punkt to /root/nltk_data...\n",
            "[nltk_data]   Unzipping tokenizers/punkt.zip.\n"
          ]
        },
        {
          "output_type": "execute_result",
          "data": {
            "text/plain": [
              "True"
            ]
          },
          "metadata": {},
          "execution_count": 11
        }
      ],
      "source": [
        "!pip install nltk\n",
        "import nltk\n",
        "nltk.download('punkt')"
      ]
    },
    {
      "cell_type": "code",
      "source": [
        "from nltk.tokenize import sent_tokenize #sent_tokenize is responsible for converting paragraphs into sentence\n",
        "corpus = \"Hello my name is Bhuvan Shetty. I want to be very expert in Gen AI. That is the reason Iam working so hard to study all concepts\"\n",
        "# output:\n",
        "# ['Hello my name is Bhuvan Shetty.',\n",
        "#  'I want to be very expert in Gen AI.',\n",
        "#  'That is the reason Iam working so hard to study all concepts']"
      ],
      "metadata": {
        "id": "wm6vikTYe5s1"
      },
      "execution_count": 14,
      "outputs": []
    },
    {
      "cell_type": "code",
      "source": [
        "document = sent_tokenize(corpus)"
      ],
      "metadata": {
        "id": "qXGabIOofdCe"
      },
      "execution_count": 16,
      "outputs": []
    },
    {
      "cell_type": "code",
      "source": [
        "print(document)"
      ],
      "metadata": {
        "colab": {
          "base_uri": "https://localhost:8080/"
        },
        "id": "u5QT4zxOhA3j",
        "outputId": "829eae61-dfba-422c-e8fb-d3beff90da3d"
      },
      "execution_count": 17,
      "outputs": [
        {
          "output_type": "stream",
          "name": "stdout",
          "text": [
            "['Hello my name is Bhuvan Shetty.', 'I want to be very expert in Gen AI.', 'That is the reason Iam working so hard to study all concepts']\n"
          ]
        }
      ]
    },
    {
      "cell_type": "code",
      "source": [
        "#Tokenization\n",
        "#Pragraphs->words\n",
        "#sentences->words\n",
        "\n",
        "from nltk.tokenize import word_tokenize #this would help in converting the corpus into words there is no need for converting it to sentence directy\n",
        "                                        #will be converted to words\n",
        "words = word_tokenize(corpus)\n",
        "print(words)"
      ],
      "metadata": {
        "colab": {
          "base_uri": "https://localhost:8080/"
        },
        "id": "-W8cozisjCbS",
        "outputId": "3b6b45c0-8dc8-4996-a294-78c1e6ede6b2"
      },
      "execution_count": 18,
      "outputs": [
        {
          "output_type": "stream",
          "name": "stdout",
          "text": [
            "['Hello', 'my', 'name', 'is', 'Bhuvan', 'Shetty', '.', 'I', 'want', 'to', 'be', 'very', 'expert', 'in', 'Gen', 'AI', '.', 'That', 'is', 'the', 'reason', 'Iam', 'working', 'so', 'hard', 'to', 'study', 'all', 'concepts']\n"
          ]
        }
      ]
    },
    {
      "cell_type": "code",
      "source": [
        "#sentences->words\n",
        "for sentence in document:\n",
        "  print(word_tokenize(sentence))"
      ],
      "metadata": {
        "colab": {
          "base_uri": "https://localhost:8080/"
        },
        "id": "PleNbSL8kWdG",
        "outputId": "bd6df72e-83f3-49ac-e724-f9f9cc2732a8"
      },
      "execution_count": 20,
      "outputs": [
        {
          "output_type": "stream",
          "name": "stdout",
          "text": [
            "['Hello', 'my', 'name', 'is', 'Bhuvan', 'Shetty', '.']\n",
            "['I', 'want', 'to', 'be', 'very', 'expert', 'in', 'Gen', 'AI', '.']\n",
            "['That', 'is', 'the', 'reason', 'Iam', 'working', 'so', 'hard', 'to', 'study', 'all', 'concepts']\n"
          ]
        }
      ]
    },
    {
      "cell_type": "code",
      "source": [
        "from nltk.tokenize import wordpunct_tokenize\n",
        "PunctTokenize = wordpunct_tokenize(corpus)\n",
        "print(PunctTokenize)"
      ],
      "metadata": {
        "colab": {
          "base_uri": "https://localhost:8080/"
        },
        "id": "zc3i1BQ7lGAr",
        "outputId": "ba2f50d3-5bae-45c8-e34a-fb16c6d75b14"
      },
      "execution_count": 21,
      "outputs": [
        {
          "output_type": "stream",
          "name": "stdout",
          "text": [
            "['Hello', 'my', 'name', 'is', 'Bhuvan', 'Shetty', '.', 'I', 'want', 'to', 'be', 'very', 'expert', 'in', 'Gen', 'AI', '.', 'That', 'is', 'the', 'reason', 'Iam', 'working', 'so', 'hard', 'to', 'study', 'all', 'concepts']\n"
          ]
        }
      ]
    }
  ]
}